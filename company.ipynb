{
  "cells": [
    {
      "cell_type": "code",
      "execution_count": 1,
      "metadata": {
        "trusted": true
      },
      "outputs": [],
      "source": [
        "import pandas as pd\n",
        "import numpy as np"
      ]
    },
    {
      "cell_type": "code",
      "execution_count": 2,
      "metadata": {
        "trusted": true
      },
      "outputs": [],
      "source": [
        "df=pd.read_csv(\"company.csv\")"
      ]
    },
    {
      "cell_type": "code",
      "execution_count": null,
      "metadata": {},
      "outputs": [],
      "source": [
        "Find the dimension of given data"
      ]
    },
    {
      "cell_type": "code",
      "execution_count": 3,
      "metadata": {
        "trusted": true
      },
      "outputs": [
        {
          "data": {
            "text/plain": [
              "(148, 6)"
            ]
          },
          "execution_count": 3,
          "metadata": {},
          "output_type": "execute_result"
        }
      ],
      "source": [
        "df.shape"
      ]
    },
    {
      "cell_type": "code",
      "execution_count": null,
      "metadata": {},
      "outputs": [],
      "source": [
        "List down all the columns in data frame"
      ]
    },
    {
      "cell_type": "code",
      "execution_count": 5,
      "metadata": {
        "trusted": true
      },
      "outputs": [
        {
          "data": {
            "text/plain": [
              "Index(['Company', 'Age', 'Salary', 'Place', 'Country', 'Gender'], dtype='object')"
            ]
          },
          "execution_count": 5,
          "metadata": {},
          "output_type": "execute_result"
        }
      ],
      "source": [
        "df.columns"
      ]
    },
    {
      "cell_type": "code",
      "execution_count": null,
      "metadata": {},
      "outputs": [],
      "source": [
        "List the top 10 rows in datframe"
      ]
    },
    {
      "cell_type": "code",
      "execution_count": 6,
      "metadata": {
        "trusted": true
      },
      "outputs": [
        {
          "data": {
            "text/html": [
              "<div>\n",
              "<style scoped>\n",
              "    .dataframe tbody tr th:only-of-type {\n",
              "        vertical-align: middle;\n",
              "    }\n",
              "\n",
              "    .dataframe tbody tr th {\n",
              "        vertical-align: top;\n",
              "    }\n",
              "\n",
              "    .dataframe thead th {\n",
              "        text-align: right;\n",
              "    }\n",
              "</style>\n",
              "<table border=\"1\" class=\"dataframe\">\n",
              "  <thead>\n",
              "    <tr style=\"text-align: right;\">\n",
              "      <th></th>\n",
              "      <th>Company</th>\n",
              "      <th>Age</th>\n",
              "      <th>Salary</th>\n",
              "      <th>Place</th>\n",
              "      <th>Country</th>\n",
              "      <th>Gender</th>\n",
              "    </tr>\n",
              "  </thead>\n",
              "  <tbody>\n",
              "    <tr>\n",
              "      <th>0</th>\n",
              "      <td>TCS</td>\n",
              "      <td>20.0</td>\n",
              "      <td>NaN</td>\n",
              "      <td>Chennai</td>\n",
              "      <td>India</td>\n",
              "      <td>0</td>\n",
              "    </tr>\n",
              "    <tr>\n",
              "      <th>1</th>\n",
              "      <td>Infosys</td>\n",
              "      <td>30.0</td>\n",
              "      <td>NaN</td>\n",
              "      <td>Mumbai</td>\n",
              "      <td>India</td>\n",
              "      <td>0</td>\n",
              "    </tr>\n",
              "    <tr>\n",
              "      <th>2</th>\n",
              "      <td>TCS</td>\n",
              "      <td>35.0</td>\n",
              "      <td>2300.0</td>\n",
              "      <td>Calcutta</td>\n",
              "      <td>India</td>\n",
              "      <td>0</td>\n",
              "    </tr>\n",
              "    <tr>\n",
              "      <th>3</th>\n",
              "      <td>Infosys</td>\n",
              "      <td>40.0</td>\n",
              "      <td>3000.0</td>\n",
              "      <td>Delhi</td>\n",
              "      <td>India</td>\n",
              "      <td>0</td>\n",
              "    </tr>\n",
              "    <tr>\n",
              "      <th>4</th>\n",
              "      <td>TCS</td>\n",
              "      <td>23.0</td>\n",
              "      <td>4000.0</td>\n",
              "      <td>Mumbai</td>\n",
              "      <td>India</td>\n",
              "      <td>0</td>\n",
              "    </tr>\n",
              "    <tr>\n",
              "      <th>5</th>\n",
              "      <td>Infosys</td>\n",
              "      <td>NaN</td>\n",
              "      <td>5000.0</td>\n",
              "      <td>Calcutta</td>\n",
              "      <td>India</td>\n",
              "      <td>0</td>\n",
              "    </tr>\n",
              "    <tr>\n",
              "      <th>6</th>\n",
              "      <td>TCS</td>\n",
              "      <td>NaN</td>\n",
              "      <td>6000.0</td>\n",
              "      <td>Chennai</td>\n",
              "      <td>India</td>\n",
              "      <td>1</td>\n",
              "    </tr>\n",
              "    <tr>\n",
              "      <th>7</th>\n",
              "      <td>Infosys</td>\n",
              "      <td>23.0</td>\n",
              "      <td>7000.0</td>\n",
              "      <td>Mumbai</td>\n",
              "      <td>India</td>\n",
              "      <td>1</td>\n",
              "    </tr>\n",
              "    <tr>\n",
              "      <th>8</th>\n",
              "      <td>TCS</td>\n",
              "      <td>34.0</td>\n",
              "      <td>8000.0</td>\n",
              "      <td>Calcutta</td>\n",
              "      <td>India</td>\n",
              "      <td>1</td>\n",
              "    </tr>\n",
              "    <tr>\n",
              "      <th>9</th>\n",
              "      <td>CTS</td>\n",
              "      <td>45.0</td>\n",
              "      <td>9000.0</td>\n",
              "      <td>Delhi</td>\n",
              "      <td>India</td>\n",
              "      <td>0</td>\n",
              "    </tr>\n",
              "  </tbody>\n",
              "</table>\n",
              "</div>"
            ],
            "text/plain": [
              "   Company   Age  Salary     Place Country  Gender\n",
              "0      TCS  20.0     NaN   Chennai   India       0\n",
              "1  Infosys  30.0     NaN    Mumbai   India       0\n",
              "2      TCS  35.0  2300.0  Calcutta   India       0\n",
              "3  Infosys  40.0  3000.0     Delhi   India       0\n",
              "4      TCS  23.0  4000.0    Mumbai   India       0\n",
              "5  Infosys   NaN  5000.0  Calcutta   India       0\n",
              "6      TCS   NaN  6000.0   Chennai   India       1\n",
              "7  Infosys  23.0  7000.0    Mumbai   India       1\n",
              "8      TCS  34.0  8000.0  Calcutta   India       1\n",
              "9      CTS  45.0  9000.0     Delhi   India       0"
            ]
          },
          "execution_count": 6,
          "metadata": {},
          "output_type": "execute_result"
        }
      ],
      "source": [
        "df.head(10)"
      ]
    },
    {
      "cell_type": "code",
      "execution_count": null,
      "metadata": {},
      "outputs": [],
      "source": [
        "List the last 15 rows in datframe"
      ]
    },
    {
      "cell_type": "code",
      "execution_count": 7,
      "metadata": {
        "trusted": true
      },
      "outputs": [
        {
          "data": {
            "text/html": [
              "<div>\n",
              "<style scoped>\n",
              "    .dataframe tbody tr th:only-of-type {\n",
              "        vertical-align: middle;\n",
              "    }\n",
              "\n",
              "    .dataframe tbody tr th {\n",
              "        vertical-align: top;\n",
              "    }\n",
              "\n",
              "    .dataframe thead th {\n",
              "        text-align: right;\n",
              "    }\n",
              "</style>\n",
              "<table border=\"1\" class=\"dataframe\">\n",
              "  <thead>\n",
              "    <tr style=\"text-align: right;\">\n",
              "      <th></th>\n",
              "      <th>Company</th>\n",
              "      <th>Age</th>\n",
              "      <th>Salary</th>\n",
              "      <th>Place</th>\n",
              "      <th>Country</th>\n",
              "      <th>Gender</th>\n",
              "    </tr>\n",
              "  </thead>\n",
              "  <tbody>\n",
              "    <tr>\n",
              "      <th>138</th>\n",
              "      <td>CTS</td>\n",
              "      <td>44.0</td>\n",
              "      <td>3033.0</td>\n",
              "      <td>Cochin</td>\n",
              "      <td>India</td>\n",
              "      <td>0</td>\n",
              "    </tr>\n",
              "    <tr>\n",
              "      <th>139</th>\n",
              "      <td>Congnizant</td>\n",
              "      <td>22.0</td>\n",
              "      <td>2934.0</td>\n",
              "      <td>Noida</td>\n",
              "      <td>India</td>\n",
              "      <td>0</td>\n",
              "    </tr>\n",
              "    <tr>\n",
              "      <th>140</th>\n",
              "      <td>Infosys</td>\n",
              "      <td>44.0</td>\n",
              "      <td>4034.0</td>\n",
              "      <td>Hyderabad</td>\n",
              "      <td>India</td>\n",
              "      <td>0</td>\n",
              "    </tr>\n",
              "    <tr>\n",
              "      <th>141</th>\n",
              "      <td>TCS</td>\n",
              "      <td>33.0</td>\n",
              "      <td>5034.0</td>\n",
              "      <td>Calcutta</td>\n",
              "      <td>India</td>\n",
              "      <td>0</td>\n",
              "    </tr>\n",
              "    <tr>\n",
              "      <th>142</th>\n",
              "      <td>Infosys Pvt Lmt</td>\n",
              "      <td>22.0</td>\n",
              "      <td>8202.0</td>\n",
              "      <td>Mumbai</td>\n",
              "      <td>India</td>\n",
              "      <td>0</td>\n",
              "    </tr>\n",
              "    <tr>\n",
              "      <th>143</th>\n",
              "      <td>TCS</td>\n",
              "      <td>33.0</td>\n",
              "      <td>9024.0</td>\n",
              "      <td>Calcutta</td>\n",
              "      <td>India</td>\n",
              "      <td>1</td>\n",
              "    </tr>\n",
              "    <tr>\n",
              "      <th>144</th>\n",
              "      <td>Infosys</td>\n",
              "      <td>22.0</td>\n",
              "      <td>8787.0</td>\n",
              "      <td>Calcutta</td>\n",
              "      <td>India</td>\n",
              "      <td>1</td>\n",
              "    </tr>\n",
              "    <tr>\n",
              "      <th>145</th>\n",
              "      <td>Infosys</td>\n",
              "      <td>44.0</td>\n",
              "      <td>4034.0</td>\n",
              "      <td>Delhi</td>\n",
              "      <td>India</td>\n",
              "      <td>1</td>\n",
              "    </tr>\n",
              "    <tr>\n",
              "      <th>146</th>\n",
              "      <td>TCS</td>\n",
              "      <td>33.0</td>\n",
              "      <td>5034.0</td>\n",
              "      <td>Mumbai</td>\n",
              "      <td>India</td>\n",
              "      <td>1</td>\n",
              "    </tr>\n",
              "    <tr>\n",
              "      <th>147</th>\n",
              "      <td>Infosys</td>\n",
              "      <td>22.0</td>\n",
              "      <td>8202.0</td>\n",
              "      <td>Cochin</td>\n",
              "      <td>India</td>\n",
              "      <td>0</td>\n",
              "    </tr>\n",
              "  </tbody>\n",
              "</table>\n",
              "</div>"
            ],
            "text/plain": [
              "             Company   Age  Salary      Place Country  Gender\n",
              "138              CTS  44.0  3033.0     Cochin   India       0\n",
              "139       Congnizant  22.0  2934.0      Noida   India       0\n",
              "140          Infosys  44.0  4034.0  Hyderabad   India       0\n",
              "141              TCS  33.0  5034.0   Calcutta   India       0\n",
              "142  Infosys Pvt Lmt  22.0  8202.0     Mumbai   India       0\n",
              "143              TCS  33.0  9024.0   Calcutta   India       1\n",
              "144          Infosys  22.0  8787.0   Calcutta   India       1\n",
              "145          Infosys  44.0  4034.0      Delhi   India       1\n",
              "146              TCS  33.0  5034.0     Mumbai   India       1\n",
              "147          Infosys  22.0  8202.0     Cochin   India       0"
            ]
          },
          "execution_count": 7,
          "metadata": {},
          "output_type": "execute_result"
        }
      ],
      "source": [
        "df.tail(10)"
      ]
    },
    {
      "cell_type": "code",
      "execution_count": null,
      "metadata": {},
      "outputs": [],
      "source": [
        "Find the number of rows in dataframe"
      ]
    },
    {
      "cell_type": "code",
      "execution_count": 8,
      "metadata": {
        "trusted": true
      },
      "outputs": [
        {
          "data": {
            "text/plain": [
              "148"
            ]
          },
          "execution_count": 8,
          "metadata": {},
          "output_type": "execute_result"
        }
      ],
      "source": [
        "df.shape[0]"
      ]
    },
    {
      "cell_type": "code",
      "execution_count": null,
      "metadata": {},
      "outputs": [],
      "source": [
        "Check the information of dataframe"
      ]
    },
    {
      "cell_type": "code",
      "execution_count": 9,
      "metadata": {
        "trusted": true
      },
      "outputs": [
        {
          "name": "stdout",
          "output_type": "stream",
          "text": [
            "<class 'pandas.core.frame.DataFrame'>\n",
            "RangeIndex: 148 entries, 0 to 147\n",
            "Data columns (total 6 columns):\n",
            " #   Column   Non-Null Count  Dtype  \n",
            "---  ------   --------------  -----  \n",
            " 0   Company  140 non-null    object \n",
            " 1   Age      130 non-null    float64\n",
            " 2   Salary   124 non-null    float64\n",
            " 3   Place    134 non-null    object \n",
            " 4   Country  148 non-null    object \n",
            " 5   Gender   148 non-null    int64  \n",
            "dtypes: float64(2), int64(1), object(3)\n",
            "memory usage: 5.3+ KB\n"
          ]
        }
      ],
      "source": [
        "df.info()"
      ]
    },
    {
      "cell_type": "code",
      "execution_count": null,
      "metadata": {},
      "outputs": [],
      "source": [
        "Check the basic Statistics of Dataframe. Give your inference from the stats"
      ]
    },
    {
      "cell_type": "code",
      "execution_count": 10,
      "metadata": {
        "trusted": true
      },
      "outputs": [
        {
          "data": {
            "text/html": [
              "<div>\n",
              "<style scoped>\n",
              "    .dataframe tbody tr th:only-of-type {\n",
              "        vertical-align: middle;\n",
              "    }\n",
              "\n",
              "    .dataframe tbody tr th {\n",
              "        vertical-align: top;\n",
              "    }\n",
              "\n",
              "    .dataframe thead th {\n",
              "        text-align: right;\n",
              "    }\n",
              "</style>\n",
              "<table border=\"1\" class=\"dataframe\">\n",
              "  <thead>\n",
              "    <tr style=\"text-align: right;\">\n",
              "      <th></th>\n",
              "      <th>count</th>\n",
              "      <th>mean</th>\n",
              "      <th>std</th>\n",
              "      <th>min</th>\n",
              "      <th>25%</th>\n",
              "      <th>50%</th>\n",
              "      <th>75%</th>\n",
              "      <th>max</th>\n",
              "    </tr>\n",
              "  </thead>\n",
              "  <tbody>\n",
              "    <tr>\n",
              "      <th>Age</th>\n",
              "      <td>130.0</td>\n",
              "      <td>30.484615</td>\n",
              "      <td>11.096640</td>\n",
              "      <td>0.0</td>\n",
              "      <td>22.0</td>\n",
              "      <td>32.5</td>\n",
              "      <td>37.75</td>\n",
              "      <td>54.0</td>\n",
              "    </tr>\n",
              "    <tr>\n",
              "      <th>Salary</th>\n",
              "      <td>124.0</td>\n",
              "      <td>5312.467742</td>\n",
              "      <td>2573.764683</td>\n",
              "      <td>1089.0</td>\n",
              "      <td>3030.0</td>\n",
              "      <td>5000.0</td>\n",
              "      <td>8000.00</td>\n",
              "      <td>9876.0</td>\n",
              "    </tr>\n",
              "    <tr>\n",
              "      <th>Gender</th>\n",
              "      <td>148.0</td>\n",
              "      <td>0.222973</td>\n",
              "      <td>0.417654</td>\n",
              "      <td>0.0</td>\n",
              "      <td>0.0</td>\n",
              "      <td>0.0</td>\n",
              "      <td>0.00</td>\n",
              "      <td>1.0</td>\n",
              "    </tr>\n",
              "  </tbody>\n",
              "</table>\n",
              "</div>"
            ],
            "text/plain": [
              "        count         mean          std     min     25%     50%      75%  \\\n",
              "Age     130.0    30.484615    11.096640     0.0    22.0    32.5    37.75   \n",
              "Salary  124.0  5312.467742  2573.764683  1089.0  3030.0  5000.0  8000.00   \n",
              "Gender  148.0     0.222973     0.417654     0.0     0.0     0.0     0.00   \n",
              "\n",
              "           max  \n",
              "Age       54.0  \n",
              "Salary  9876.0  \n",
              "Gender     1.0  "
            ]
          },
          "execution_count": 10,
          "metadata": {},
          "output_type": "execute_result"
        }
      ],
      "source": [
        "df.describe().T"
      ]
    },
    {
      "cell_type": "code",
      "execution_count": null,
      "metadata": {},
      "outputs": [],
      "source": [
        "Retrieve 20 to 100 rows and Company and age usig iloc"
      ]
    },
    {
      "cell_type": "code",
      "execution_count": 11,
      "metadata": {
        "trusted": true
      },
      "outputs": [
        {
          "data": {
            "text/html": [
              "<div>\n",
              "<style scoped>\n",
              "    .dataframe tbody tr th:only-of-type {\n",
              "        vertical-align: middle;\n",
              "    }\n",
              "\n",
              "    .dataframe tbody tr th {\n",
              "        vertical-align: top;\n",
              "    }\n",
              "\n",
              "    .dataframe thead th {\n",
              "        text-align: right;\n",
              "    }\n",
              "</style>\n",
              "<table border=\"1\" class=\"dataframe\">\n",
              "  <thead>\n",
              "    <tr style=\"text-align: right;\">\n",
              "      <th></th>\n",
              "      <th>Company</th>\n",
              "      <th>Age</th>\n",
              "    </tr>\n",
              "  </thead>\n",
              "  <tbody>\n",
              "    <tr>\n",
              "      <th>20</th>\n",
              "      <td>TCS</td>\n",
              "      <td>37.0</td>\n",
              "    </tr>\n",
              "    <tr>\n",
              "      <th>21</th>\n",
              "      <td>Infosys</td>\n",
              "      <td>50.0</td>\n",
              "    </tr>\n",
              "    <tr>\n",
              "      <th>22</th>\n",
              "      <td>TCS</td>\n",
              "      <td>21.0</td>\n",
              "    </tr>\n",
              "    <tr>\n",
              "      <th>23</th>\n",
              "      <td>Infosys</td>\n",
              "      <td>NaN</td>\n",
              "    </tr>\n",
              "    <tr>\n",
              "      <th>24</th>\n",
              "      <td>TCS</td>\n",
              "      <td>NaN</td>\n",
              "    </tr>\n",
              "    <tr>\n",
              "      <th>...</th>\n",
              "      <td>...</td>\n",
              "      <td>...</td>\n",
              "    </tr>\n",
              "    <tr>\n",
              "      <th>96</th>\n",
              "      <td>TCS</td>\n",
              "      <td>NaN</td>\n",
              "    </tr>\n",
              "    <tr>\n",
              "      <th>97</th>\n",
              "      <td>Infosys</td>\n",
              "      <td>22.0</td>\n",
              "    </tr>\n",
              "    <tr>\n",
              "      <th>98</th>\n",
              "      <td>TCS</td>\n",
              "      <td>33.0</td>\n",
              "    </tr>\n",
              "    <tr>\n",
              "      <th>99</th>\n",
              "      <td>CTS</td>\n",
              "      <td>44.0</td>\n",
              "    </tr>\n",
              "    <tr>\n",
              "      <th>100</th>\n",
              "      <td>CTS</td>\n",
              "      <td>22.0</td>\n",
              "    </tr>\n",
              "  </tbody>\n",
              "</table>\n",
              "<p>81 rows × 2 columns</p>\n",
              "</div>"
            ],
            "text/plain": [
              "     Company   Age\n",
              "20       TCS  37.0\n",
              "21   Infosys  50.0\n",
              "22       TCS  21.0\n",
              "23   Infosys   NaN\n",
              "24       TCS   NaN\n",
              "..       ...   ...\n",
              "96       TCS   NaN\n",
              "97   Infosys  22.0\n",
              "98       TCS  33.0\n",
              "99       CTS  44.0\n",
              "100      CTS  22.0\n",
              "\n",
              "[81 rows x 2 columns]"
            ]
          },
          "execution_count": 11,
          "metadata": {},
          "output_type": "execute_result"
        }
      ],
      "source": [
        "df.iloc[20:101,:2]"
      ]
    },
    {
      "cell_type": "code",
      "execution_count": null,
      "metadata": {},
      "outputs": [],
      "source": [
        "Retrieve 20 to 100 rows and Company and age usig loc"
      ]
    },
    {
      "cell_type": "code",
      "execution_count": 12,
      "metadata": {
        "trusted": true
      },
      "outputs": [
        {
          "data": {
            "text/html": [
              "<div>\n",
              "<style scoped>\n",
              "    .dataframe tbody tr th:only-of-type {\n",
              "        vertical-align: middle;\n",
              "    }\n",
              "\n",
              "    .dataframe tbody tr th {\n",
              "        vertical-align: top;\n",
              "    }\n",
              "\n",
              "    .dataframe thead th {\n",
              "        text-align: right;\n",
              "    }\n",
              "</style>\n",
              "<table border=\"1\" class=\"dataframe\">\n",
              "  <thead>\n",
              "    <tr style=\"text-align: right;\">\n",
              "      <th></th>\n",
              "      <th>Company</th>\n",
              "      <th>Age</th>\n",
              "    </tr>\n",
              "  </thead>\n",
              "  <tbody>\n",
              "    <tr>\n",
              "      <th>20</th>\n",
              "      <td>TCS</td>\n",
              "      <td>37.0</td>\n",
              "    </tr>\n",
              "    <tr>\n",
              "      <th>21</th>\n",
              "      <td>Infosys</td>\n",
              "      <td>50.0</td>\n",
              "    </tr>\n",
              "    <tr>\n",
              "      <th>22</th>\n",
              "      <td>TCS</td>\n",
              "      <td>21.0</td>\n",
              "    </tr>\n",
              "    <tr>\n",
              "      <th>23</th>\n",
              "      <td>Infosys</td>\n",
              "      <td>NaN</td>\n",
              "    </tr>\n",
              "    <tr>\n",
              "      <th>24</th>\n",
              "      <td>TCS</td>\n",
              "      <td>NaN</td>\n",
              "    </tr>\n",
              "    <tr>\n",
              "      <th>...</th>\n",
              "      <td>...</td>\n",
              "      <td>...</td>\n",
              "    </tr>\n",
              "    <tr>\n",
              "      <th>96</th>\n",
              "      <td>TCS</td>\n",
              "      <td>NaN</td>\n",
              "    </tr>\n",
              "    <tr>\n",
              "      <th>97</th>\n",
              "      <td>Infosys</td>\n",
              "      <td>22.0</td>\n",
              "    </tr>\n",
              "    <tr>\n",
              "      <th>98</th>\n",
              "      <td>TCS</td>\n",
              "      <td>33.0</td>\n",
              "    </tr>\n",
              "    <tr>\n",
              "      <th>99</th>\n",
              "      <td>CTS</td>\n",
              "      <td>44.0</td>\n",
              "    </tr>\n",
              "    <tr>\n",
              "      <th>100</th>\n",
              "      <td>CTS</td>\n",
              "      <td>22.0</td>\n",
              "    </tr>\n",
              "  </tbody>\n",
              "</table>\n",
              "<p>81 rows × 2 columns</p>\n",
              "</div>"
            ],
            "text/plain": [
              "     Company   Age\n",
              "20       TCS  37.0\n",
              "21   Infosys  50.0\n",
              "22       TCS  21.0\n",
              "23   Infosys   NaN\n",
              "24       TCS   NaN\n",
              "..       ...   ...\n",
              "96       TCS   NaN\n",
              "97   Infosys  22.0\n",
              "98       TCS  33.0\n",
              "99       CTS  44.0\n",
              "100      CTS  22.0\n",
              "\n",
              "[81 rows x 2 columns]"
            ]
          },
          "execution_count": 12,
          "metadata": {},
          "output_type": "execute_result"
        }
      ],
      "source": [
        "df.loc[20:100,[\"Company\",\"Age\"]]"
      ]
    },
    {
      "cell_type": "code",
      "execution_count": null,
      "metadata": {},
      "outputs": [],
      "source": [
        "Chage the data in 100 row and Place as 'Noida'"
      ]
    },
    {
      "cell_type": "code",
      "execution_count": 13,
      "metadata": {
        "trusted": true
      },
      "outputs": [
        {
          "data": {
            "text/plain": [
              "'Cochin'"
            ]
          },
          "execution_count": 13,
          "metadata": {},
          "output_type": "execute_result"
        }
      ],
      "source": [
        "df.loc[100,\"Place\"]"
      ]
    },
    {
      "cell_type": "code",
      "execution_count": 14,
      "metadata": {
        "trusted": true
      },
      "outputs": [],
      "source": [
        "df.loc[100,\"Place\"]=\"Noida\""
      ]
    },
    {
      "cell_type": "code",
      "execution_count": 15,
      "metadata": {
        "trusted": true
      },
      "outputs": [
        {
          "data": {
            "text/plain": [
              "Company      CTS\n",
              "Age         22.0\n",
              "Salary       NaN\n",
              "Place      Noida\n",
              "Country    India\n",
              "Gender         0\n",
              "Name: 100, dtype: object"
            ]
          },
          "execution_count": 15,
          "metadata": {},
          "output_type": "execute_result"
        }
      ],
      "source": [
        "df.loc[100,:]"
      ]
    },
    {
      "cell_type": "code",
      "execution_count": null,
      "metadata": {},
      "outputs": [],
      "source": [
        "Change the column 'Place' to 'City'"
      ]
    },
    {
      "cell_type": "code",
      "execution_count": 16,
      "metadata": {
        "trusted": true
      },
      "outputs": [],
      "source": [
        "df.rename(columns={'Place':'city'},inplace=True)"
      ]
    },
    {
      "cell_type": "code",
      "execution_count": 17,
      "metadata": {
        "trusted": true
      },
      "outputs": [
        {
          "data": {
            "text/plain": [
              "Index(['Company', 'Age', 'Salary', 'city', 'Country', 'Gender'], dtype='object')"
            ]
          },
          "execution_count": 17,
          "metadata": {},
          "output_type": "execute_result"
        }
      ],
      "source": [
        "df.columns"
      ]
    },
    {
      "cell_type": "code",
      "execution_count": null,
      "metadata": {},
      "outputs": [],
      "source": [
        "List down the unique data in each columns and find length of unique data"
      ]
    },
    {
      "cell_type": "code",
      "execution_count": 19,
      "metadata": {
        "trusted": true
      },
      "outputs": [
        {
          "data": {
            "text/plain": [
              "Company     6\n",
              "Age        29\n",
              "Salary     40\n",
              "city       11\n",
              "Country     1\n",
              "Gender      2\n",
              "dtype: int64"
            ]
          },
          "execution_count": 19,
          "metadata": {},
          "output_type": "execute_result"
        }
      ],
      "source": [
        "df.nunique()"
      ]
    },
    {
      "cell_type": "code",
      "execution_count": 20,
      "metadata": {
        "trusted": true
      },
      "outputs": [
        {
          "data": {
            "text/plain": [
              "array(['TCS', 'Infosys', 'CTS', nan, 'Tata Consultancy Services',\n",
              "       'Congnizant', 'Infosys Pvt Lmt'], dtype=object)"
            ]
          },
          "execution_count": 20,
          "metadata": {},
          "output_type": "execute_result"
        }
      ],
      "source": [
        "df.Company.unique()"
      ]
    },
    {
      "cell_type": "code",
      "execution_count": 21,
      "metadata": {
        "trusted": true
      },
      "outputs": [
        {
          "data": {
            "text/plain": [
              "TCS                          53\n",
              "Infosys                      45\n",
              "CTS                          36\n",
              "Tata Consultancy Services     2\n",
              "Congnizant                    2\n",
              "Infosys Pvt Lmt               2\n",
              "Name: Company, dtype: int64"
            ]
          },
          "execution_count": 21,
          "metadata": {},
          "output_type": "execute_result"
        }
      ],
      "source": [
        "df.Company.value_counts()"
      ]
    },
    {
      "cell_type": "code",
      "execution_count": 22,
      "metadata": {
        "trusted": true
      },
      "outputs": [
        {
          "name": "stdout",
          "output_type": "stream",
          "text": [
            "TCS                          53\n",
            "Infosys                      45\n",
            "CTS                          36\n",
            "Tata Consultancy Services     2\n",
            "Congnizant                    2\n",
            "Infosys Pvt Lmt               2\n",
            "Name: Company, dtype: int64\n",
            "22.0    16\n",
            "33.0    13\n",
            "44.0    10\n",
            "23.0     8\n",
            "34.0     8\n",
            "21.0     8\n",
            "32.0     7\n",
            "35.0     6\n",
            "0.0      6\n",
            "41.0     5\n",
            "45.0     4\n",
            "43.0     4\n",
            "24.0     4\n",
            "20.0     3\n",
            "31.0     3\n",
            "25.0     3\n",
            "36.0     3\n",
            "40.0     3\n",
            "26.0     2\n",
            "30.0     2\n",
            "46.0     2\n",
            "50.0     2\n",
            "37.0     2\n",
            "19.0     1\n",
            "38.0     1\n",
            "51.0     1\n",
            "18.0     1\n",
            "17.0     1\n",
            "54.0     1\n",
            "Name: Age, dtype: int64\n",
            "3000.0    9\n",
            "5000.0    6\n",
            "8202.0    5\n",
            "5034.0    5\n",
            "4034.0    5\n",
            "2300.0    4\n",
            "5835.0    4\n",
            "8787.0    4\n",
            "9024.0    4\n",
            "2934.0    4\n",
            "9284.0    4\n",
            "8345.0    4\n",
            "8943.0    4\n",
            "7084.0    4\n",
            "2034.0    4\n",
            "4824.0    4\n",
            "3045.0    4\n",
            "3184.0    4\n",
            "1234.0    4\n",
            "1089.0    4\n",
            "9000.0    3\n",
            "6000.0    3\n",
            "7000.0    3\n",
            "8000.0    3\n",
            "3030.0    3\n",
            "4000.0    2\n",
            "7654.0    2\n",
            "9876.0    2\n",
            "3234.0    2\n",
            "5098.0    1\n",
            "5009.0    1\n",
            "5654.0    1\n",
            "3454.0    1\n",
            "4345.0    1\n",
            "5555.0    1\n",
            "5435.0    1\n",
            "4324.0    1\n",
            "6543.0    1\n",
            "6544.0    1\n",
            "3033.0    1\n",
            "Name: Salary, dtype: int64\n",
            "Mumbai        37\n",
            "Calcutta      33\n",
            "Chennai       14\n",
            "Delhi         14\n",
            "Cochin        12\n",
            "Noida          9\n",
            "Hyderabad      8\n",
            "Podicherry     3\n",
            "Pune           2\n",
            "Bhopal         1\n",
            "Nagpur         1\n",
            "Name: city, dtype: int64\n",
            "India    148\n",
            "Name: Country, dtype: int64\n",
            "0    115\n",
            "1     33\n",
            "Name: Gender, dtype: int64\n"
          ]
        },
        {
          "data": {
            "text/plain": [
              "Company    None\n",
              "Age        None\n",
              "Salary     None\n",
              "city       None\n",
              "Country    None\n",
              "Gender     None\n",
              "dtype: object"
            ]
          },
          "execution_count": 22,
          "metadata": {},
          "output_type": "execute_result"
        }
      ],
      "source": [
        "df.apply(lambda x:print(x.value_counts()))"
      ]
    },
    {
      "cell_type": "code",
      "execution_count": null,
      "metadata": {},
      "outputs": [],
      "source": [
        "Rename all the possible labels of column in Company as three labels\n",
        "TCS\n",
        "CTS\n",
        "Infosys"
      ]
    },
    {
      "cell_type": "code",
      "execution_count": 25,
      "metadata": {
        "trusted": true
      },
      "outputs": [],
      "source": [
        "df.Company.replace({\"Tata Consultancy Services\":\"TCS\",\"Congnizant\":\"CTS\",\"Infosys Pvt Lmt\":\"Infosys\"},inplace=True)"
      ]
    },
    {
      "cell_type": "code",
      "execution_count": 26,
      "metadata": {
        "trusted": true
      },
      "outputs": [
        {
          "data": {
            "text/plain": [
              "TCS        55\n",
              "Infosys    47\n",
              "CTS        38\n",
              "Name: Company, dtype: int64"
            ]
          },
          "execution_count": 26,
          "metadata": {},
          "output_type": "execute_result"
        }
      ],
      "source": [
        "df.Company.value_counts()"
      ]
    },
    {
      "cell_type": "code",
      "execution_count": null,
      "metadata": {},
      "outputs": [],
      "source": [
        "Where ever you see age as 0 replace with NA"
      ]
    },
    {
      "cell_type": "code",
      "execution_count": 27,
      "metadata": {
        "trusted": true
      },
      "outputs": [],
      "source": [
        "df[df.Age==0]=np.nan"
      ]
    },
    {
      "cell_type": "code",
      "execution_count": 28,
      "metadata": {
        "trusted": true
      },
      "outputs": [
        {
          "data": {
            "text/plain": [
              "24"
            ]
          },
          "execution_count": 28,
          "metadata": {},
          "output_type": "execute_result"
        }
      ],
      "source": [
        "df.Age.isna().sum()"
      ]
    },
    {
      "cell_type": "code",
      "execution_count": null,
      "metadata": {},
      "outputs": [],
      "source": [
        "Check how many duplicated data is there?"
      ]
    },
    {
      "cell_type": "code",
      "execution_count": 29,
      "metadata": {
        "trusted": true
      },
      "outputs": [
        {
          "data": {
            "text/plain": [
              "9"
            ]
          },
          "execution_count": 29,
          "metadata": {},
          "output_type": "execute_result"
        }
      ],
      "source": [
        "df.duplicated().sum()"
      ]
    },
    {
      "cell_type": "code",
      "execution_count": null,
      "metadata": {},
      "outputs": [],
      "source": [
        "Remove all the duplicated rowies data"
      ]
    },
    {
      "cell_type": "code",
      "execution_count": 30,
      "metadata": {
        "trusted": true
      },
      "outputs": [],
      "source": [
        "df=df.drop_duplicates()"
      ]
    },
    {
      "cell_type": "code",
      "execution_count": 31,
      "metadata": {
        "trusted": true
      },
      "outputs": [
        {
          "data": {
            "text/plain": [
              "0"
            ]
          },
          "execution_count": 31,
          "metadata": {},
          "output_type": "execute_result"
        }
      ],
      "source": [
        "df.duplicated().sum()"
      ]
    },
    {
      "cell_type": "code",
      "execution_count": null,
      "metadata": {},
      "outputs": [],
      "source": [
        "Remove the column 'Country'"
      ]
    },
    {
      "cell_type": "code",
      "execution_count": 33,
      "metadata": {
        "trusted": true
      },
      "outputs": [],
      "source": [
        "del df[\"Country\"]\n"
      ]
    },
    {
      "cell_type": "code",
      "execution_count": 34,
      "metadata": {
        "trusted": true
      },
      "outputs": [
        {
          "data": {
            "text/html": [
              "<div>\n",
              "<style scoped>\n",
              "    .dataframe tbody tr th:only-of-type {\n",
              "        vertical-align: middle;\n",
              "    }\n",
              "\n",
              "    .dataframe tbody tr th {\n",
              "        vertical-align: top;\n",
              "    }\n",
              "\n",
              "    .dataframe thead th {\n",
              "        text-align: right;\n",
              "    }\n",
              "</style>\n",
              "<table border=\"1\" class=\"dataframe\">\n",
              "  <thead>\n",
              "    <tr style=\"text-align: right;\">\n",
              "      <th></th>\n",
              "      <th>Company</th>\n",
              "      <th>Age</th>\n",
              "      <th>Salary</th>\n",
              "      <th>city</th>\n",
              "      <th>Gender</th>\n",
              "    </tr>\n",
              "  </thead>\n",
              "  <tbody>\n",
              "    <tr>\n",
              "      <th>0</th>\n",
              "      <td>TCS</td>\n",
              "      <td>20.0</td>\n",
              "      <td>NaN</td>\n",
              "      <td>Chennai</td>\n",
              "      <td>0.0</td>\n",
              "    </tr>\n",
              "    <tr>\n",
              "      <th>1</th>\n",
              "      <td>Infosys</td>\n",
              "      <td>30.0</td>\n",
              "      <td>NaN</td>\n",
              "      <td>Mumbai</td>\n",
              "      <td>0.0</td>\n",
              "    </tr>\n",
              "    <tr>\n",
              "      <th>2</th>\n",
              "      <td>TCS</td>\n",
              "      <td>35.0</td>\n",
              "      <td>2300.0</td>\n",
              "      <td>Calcutta</td>\n",
              "      <td>0.0</td>\n",
              "    </tr>\n",
              "    <tr>\n",
              "      <th>3</th>\n",
              "      <td>Infosys</td>\n",
              "      <td>40.0</td>\n",
              "      <td>3000.0</td>\n",
              "      <td>Delhi</td>\n",
              "      <td>0.0</td>\n",
              "    </tr>\n",
              "    <tr>\n",
              "      <th>4</th>\n",
              "      <td>TCS</td>\n",
              "      <td>23.0</td>\n",
              "      <td>4000.0</td>\n",
              "      <td>Mumbai</td>\n",
              "      <td>0.0</td>\n",
              "    </tr>\n",
              "    <tr>\n",
              "      <th>...</th>\n",
              "      <td>...</td>\n",
              "      <td>...</td>\n",
              "      <td>...</td>\n",
              "      <td>...</td>\n",
              "      <td>...</td>\n",
              "    </tr>\n",
              "    <tr>\n",
              "      <th>142</th>\n",
              "      <td>Infosys</td>\n",
              "      <td>22.0</td>\n",
              "      <td>8202.0</td>\n",
              "      <td>Mumbai</td>\n",
              "      <td>0.0</td>\n",
              "    </tr>\n",
              "    <tr>\n",
              "      <th>143</th>\n",
              "      <td>TCS</td>\n",
              "      <td>33.0</td>\n",
              "      <td>9024.0</td>\n",
              "      <td>Calcutta</td>\n",
              "      <td>1.0</td>\n",
              "    </tr>\n",
              "    <tr>\n",
              "      <th>145</th>\n",
              "      <td>Infosys</td>\n",
              "      <td>44.0</td>\n",
              "      <td>4034.0</td>\n",
              "      <td>Delhi</td>\n",
              "      <td>1.0</td>\n",
              "    </tr>\n",
              "    <tr>\n",
              "      <th>146</th>\n",
              "      <td>TCS</td>\n",
              "      <td>33.0</td>\n",
              "      <td>5034.0</td>\n",
              "      <td>Mumbai</td>\n",
              "      <td>1.0</td>\n",
              "    </tr>\n",
              "    <tr>\n",
              "      <th>147</th>\n",
              "      <td>Infosys</td>\n",
              "      <td>22.0</td>\n",
              "      <td>8202.0</td>\n",
              "      <td>Cochin</td>\n",
              "      <td>0.0</td>\n",
              "    </tr>\n",
              "  </tbody>\n",
              "</table>\n",
              "<p>139 rows × 5 columns</p>\n",
              "</div>"
            ],
            "text/plain": [
              "     Company   Age  Salary      city  Gender\n",
              "0        TCS  20.0     NaN   Chennai     0.0\n",
              "1    Infosys  30.0     NaN    Mumbai     0.0\n",
              "2        TCS  35.0  2300.0  Calcutta     0.0\n",
              "3    Infosys  40.0  3000.0     Delhi     0.0\n",
              "4        TCS  23.0  4000.0    Mumbai     0.0\n",
              "..       ...   ...     ...       ...     ...\n",
              "142  Infosys  22.0  8202.0    Mumbai     0.0\n",
              "143      TCS  33.0  9024.0  Calcutta     1.0\n",
              "145  Infosys  44.0  4034.0     Delhi     1.0\n",
              "146      TCS  33.0  5034.0    Mumbai     1.0\n",
              "147  Infosys  22.0  8202.0    Cochin     0.0\n",
              "\n",
              "[139 rows x 5 columns]"
            ]
          },
          "execution_count": 34,
          "metadata": {},
          "output_type": "execute_result"
        }
      ],
      "source": [
        "df"
      ]
    },
    {
      "cell_type": "code",
      "execution_count": null,
      "metadata": {},
      "outputs": [],
      "source": [
        "Remove the row number 137"
      ]
    },
    {
      "cell_type": "code",
      "execution_count": 35,
      "metadata": {
        "trusted": true
      },
      "outputs": [
        {
          "data": {
            "text/html": [
              "<div>\n",
              "<style scoped>\n",
              "    .dataframe tbody tr th:only-of-type {\n",
              "        vertical-align: middle;\n",
              "    }\n",
              "\n",
              "    .dataframe tbody tr th {\n",
              "        vertical-align: top;\n",
              "    }\n",
              "\n",
              "    .dataframe thead th {\n",
              "        text-align: right;\n",
              "    }\n",
              "</style>\n",
              "<table border=\"1\" class=\"dataframe\">\n",
              "  <thead>\n",
              "    <tr style=\"text-align: right;\">\n",
              "      <th></th>\n",
              "      <th>Company</th>\n",
              "      <th>Age</th>\n",
              "      <th>Salary</th>\n",
              "      <th>city</th>\n",
              "      <th>Gender</th>\n",
              "    </tr>\n",
              "  </thead>\n",
              "  <tbody>\n",
              "    <tr>\n",
              "      <th>0</th>\n",
              "      <td>TCS</td>\n",
              "      <td>20.0</td>\n",
              "      <td>NaN</td>\n",
              "      <td>Chennai</td>\n",
              "      <td>0.0</td>\n",
              "    </tr>\n",
              "    <tr>\n",
              "      <th>1</th>\n",
              "      <td>Infosys</td>\n",
              "      <td>30.0</td>\n",
              "      <td>NaN</td>\n",
              "      <td>Mumbai</td>\n",
              "      <td>0.0</td>\n",
              "    </tr>\n",
              "    <tr>\n",
              "      <th>2</th>\n",
              "      <td>TCS</td>\n",
              "      <td>35.0</td>\n",
              "      <td>2300.0</td>\n",
              "      <td>Calcutta</td>\n",
              "      <td>0.0</td>\n",
              "    </tr>\n",
              "    <tr>\n",
              "      <th>3</th>\n",
              "      <td>Infosys</td>\n",
              "      <td>40.0</td>\n",
              "      <td>3000.0</td>\n",
              "      <td>Delhi</td>\n",
              "      <td>0.0</td>\n",
              "    </tr>\n",
              "    <tr>\n",
              "      <th>4</th>\n",
              "      <td>TCS</td>\n",
              "      <td>23.0</td>\n",
              "      <td>4000.0</td>\n",
              "      <td>Mumbai</td>\n",
              "      <td>0.0</td>\n",
              "    </tr>\n",
              "    <tr>\n",
              "      <th>...</th>\n",
              "      <td>...</td>\n",
              "      <td>...</td>\n",
              "      <td>...</td>\n",
              "      <td>...</td>\n",
              "      <td>...</td>\n",
              "    </tr>\n",
              "    <tr>\n",
              "      <th>142</th>\n",
              "      <td>Infosys</td>\n",
              "      <td>22.0</td>\n",
              "      <td>8202.0</td>\n",
              "      <td>Mumbai</td>\n",
              "      <td>0.0</td>\n",
              "    </tr>\n",
              "    <tr>\n",
              "      <th>143</th>\n",
              "      <td>TCS</td>\n",
              "      <td>33.0</td>\n",
              "      <td>9024.0</td>\n",
              "      <td>Calcutta</td>\n",
              "      <td>1.0</td>\n",
              "    </tr>\n",
              "    <tr>\n",
              "      <th>145</th>\n",
              "      <td>Infosys</td>\n",
              "      <td>44.0</td>\n",
              "      <td>4034.0</td>\n",
              "      <td>Delhi</td>\n",
              "      <td>1.0</td>\n",
              "    </tr>\n",
              "    <tr>\n",
              "      <th>146</th>\n",
              "      <td>TCS</td>\n",
              "      <td>33.0</td>\n",
              "      <td>5034.0</td>\n",
              "      <td>Mumbai</td>\n",
              "      <td>1.0</td>\n",
              "    </tr>\n",
              "    <tr>\n",
              "      <th>147</th>\n",
              "      <td>Infosys</td>\n",
              "      <td>22.0</td>\n",
              "      <td>8202.0</td>\n",
              "      <td>Cochin</td>\n",
              "      <td>0.0</td>\n",
              "    </tr>\n",
              "  </tbody>\n",
              "</table>\n",
              "<p>138 rows × 5 columns</p>\n",
              "</div>"
            ],
            "text/plain": [
              "     Company   Age  Salary      city  Gender\n",
              "0        TCS  20.0     NaN   Chennai     0.0\n",
              "1    Infosys  30.0     NaN    Mumbai     0.0\n",
              "2        TCS  35.0  2300.0  Calcutta     0.0\n",
              "3    Infosys  40.0  3000.0     Delhi     0.0\n",
              "4        TCS  23.0  4000.0    Mumbai     0.0\n",
              "..       ...   ...     ...       ...     ...\n",
              "142  Infosys  22.0  8202.0    Mumbai     0.0\n",
              "143      TCS  33.0  9024.0  Calcutta     1.0\n",
              "145  Infosys  44.0  4034.0     Delhi     1.0\n",
              "146      TCS  33.0  5034.0    Mumbai     1.0\n",
              "147  Infosys  22.0  8202.0    Cochin     0.0\n",
              "\n",
              "[138 rows x 5 columns]"
            ]
          },
          "execution_count": 35,
          "metadata": {},
          "output_type": "execute_result"
        }
      ],
      "source": [
        "df.drop(index=136)"
      ]
    },
    {
      "cell_type": "code",
      "execution_count": null,
      "metadata": {},
      "outputs": [],
      "source": [
        "Find number of each labels in Company"
      ]
    },
    {
      "cell_type": "code",
      "execution_count": 37,
      "metadata": {
        "trusted": true
      },
      "outputs": [
        {
          "data": {
            "text/plain": [
              "TCS        52\n",
              "Infosys    43\n",
              "CTS        35\n",
              "Name: Company, dtype: int64"
            ]
          },
          "execution_count": 37,
          "metadata": {},
          "output_type": "execute_result"
        }
      ],
      "source": [
        "df.Company.value_counts()"
      ]
    },
    {
      "cell_type": "code",
      "execution_count": null,
      "metadata": {},
      "outputs": [],
      "source": [
        "Find the number of each labels in City"
      ]
    },
    {
      "cell_type": "code",
      "execution_count": 39,
      "metadata": {
        "trusted": true
      },
      "outputs": [
        {
          "data": {
            "text/plain": [
              "Mumbai        33\n",
              "Calcutta      30\n",
              "Chennai       13\n",
              "Delhi         13\n",
              "Cochin        12\n",
              "Noida          9\n",
              "Hyderabad      8\n",
              "Podicherry     2\n",
              "Pune           2\n",
              "Bhopal         1\n",
              "Nagpur         1\n",
              "Name: city, dtype: int64"
            ]
          },
          "execution_count": 39,
          "metadata": {},
          "output_type": "execute_result"
        }
      ],
      "source": [
        "df.city.value_counts()"
      ]
    },
    {
      "cell_type": "code",
      "execution_count": null,
      "metadata": {},
      "outputs": [],
      "source": [
        "Find Number of Null Values in each column"
      ]
    },
    {
      "cell_type": "code",
      "execution_count": 40,
      "metadata": {
        "trusted": true
      },
      "outputs": [
        {
          "data": {
            "text/plain": [
              "Company     9\n",
              "Age        18\n",
              "Salary     24\n",
              "city       15\n",
              "Gender      1\n",
              "dtype: int64"
            ]
          },
          "execution_count": 40,
          "metadata": {},
          "output_type": "execute_result"
        }
      ],
      "source": [
        "df.isna().sum()"
      ]
    },
    {
      "cell_type": "code",
      "execution_count": null,
      "metadata": {},
      "outputs": [],
      "source": [
        "Remove all Null values in Salary"
      ]
    },
    {
      "cell_type": "code",
      "execution_count": null,
      "metadata": {
        "trusted": true
      },
      "outputs": [],
      "source": [
        "df.dropna(subset=[\"Salary\"],inplace=True)"
      ]
    },
    {
      "cell_type": "code",
      "execution_count": null,
      "metadata": {},
      "outputs": [],
      "source": [
        "Replace the null value in Salary with median"
      ]
    },
    {
      "cell_type": "code",
      "execution_count": null,
      "metadata": {
        "trusted": true
      },
      "outputs": [],
      "source": [
        "df[\"Age\"]=pd.to_numeric(df[\"Age\"],errors='coerce')\n",
        "df[\"Salary\"]=pd.to_numeric(df[\"Salary\"],errors='coerce')"
      ]
    },
    {
      "cell_type": "code",
      "execution_count": null,
      "metadata": {
        "trusted": true
      },
      "outputs": [],
      "source": [
        "df.Age.fillna(df.Age.mean(),inplace=True)\n",
        "df.Salary.fillna(df.Salary.mean(),inplace=True)"
      ]
    },
    {
      "cell_type": "code",
      "execution_count": null,
      "metadata": {},
      "outputs": [],
      "source": [
        "Filter the data with age>40 and Salary<5000"
      ]
    },
    {
      "cell_type": "code",
      "execution_count": 46,
      "metadata": {
        "trusted": true
      },
      "outputs": [
        {
          "data": {
            "text/html": [
              "<div>\n",
              "<style scoped>\n",
              "    .dataframe tbody tr th:only-of-type {\n",
              "        vertical-align: middle;\n",
              "    }\n",
              "\n",
              "    .dataframe tbody tr th {\n",
              "        vertical-align: top;\n",
              "    }\n",
              "\n",
              "    .dataframe thead th {\n",
              "        text-align: right;\n",
              "    }\n",
              "</style>\n",
              "<table border=\"1\" class=\"dataframe\">\n",
              "  <thead>\n",
              "    <tr style=\"text-align: right;\">\n",
              "      <th></th>\n",
              "      <th>Company</th>\n",
              "      <th>Age</th>\n",
              "      <th>Salary</th>\n",
              "      <th>city</th>\n",
              "      <th>Gender</th>\n",
              "    </tr>\n",
              "  </thead>\n",
              "  <tbody>\n",
              "    <tr>\n",
              "      <th>21</th>\n",
              "      <td>Infosys</td>\n",
              "      <td>50.0</td>\n",
              "      <td>3184.0</td>\n",
              "      <td>Delhi</td>\n",
              "      <td>0.0</td>\n",
              "    </tr>\n",
              "    <tr>\n",
              "      <th>32</th>\n",
              "      <td>Infosys</td>\n",
              "      <td>45.0</td>\n",
              "      <td>4034.0</td>\n",
              "      <td>Calcutta</td>\n",
              "      <td>0.0</td>\n",
              "    </tr>\n",
              "    <tr>\n",
              "      <th>39</th>\n",
              "      <td>Infosys</td>\n",
              "      <td>41.0</td>\n",
              "      <td>3000.0</td>\n",
              "      <td>Mumbai</td>\n",
              "      <td>0.0</td>\n",
              "    </tr>\n",
              "    <tr>\n",
              "      <th>50</th>\n",
              "      <td>Infosys</td>\n",
              "      <td>41.0</td>\n",
              "      <td>3000.0</td>\n",
              "      <td>Chennai</td>\n",
              "      <td>0.0</td>\n",
              "    </tr>\n",
              "    <tr>\n",
              "      <th>57</th>\n",
              "      <td>Infosys</td>\n",
              "      <td>51.0</td>\n",
              "      <td>3184.0</td>\n",
              "      <td>Hyderabad</td>\n",
              "      <td>0.0</td>\n",
              "    </tr>\n",
              "    <tr>\n",
              "      <th>68</th>\n",
              "      <td>Infosys</td>\n",
              "      <td>43.0</td>\n",
              "      <td>4034.0</td>\n",
              "      <td>Mumbai</td>\n",
              "      <td>0.0</td>\n",
              "    </tr>\n",
              "    <tr>\n",
              "      <th>75</th>\n",
              "      <td>Infosys</td>\n",
              "      <td>44.0</td>\n",
              "      <td>3000.0</td>\n",
              "      <td>Cochin</td>\n",
              "      <td>0.0</td>\n",
              "    </tr>\n",
              "    <tr>\n",
              "      <th>86</th>\n",
              "      <td>Infosys</td>\n",
              "      <td>41.0</td>\n",
              "      <td>3000.0</td>\n",
              "      <td>Delhi</td>\n",
              "      <td>0.0</td>\n",
              "    </tr>\n",
              "    <tr>\n",
              "      <th>93</th>\n",
              "      <td>Infosys</td>\n",
              "      <td>54.0</td>\n",
              "      <td>3184.0</td>\n",
              "      <td>Mumbai</td>\n",
              "      <td>0.0</td>\n",
              "    </tr>\n",
              "    <tr>\n",
              "      <th>104</th>\n",
              "      <td>Infosys</td>\n",
              "      <td>44.0</td>\n",
              "      <td>4034.0</td>\n",
              "      <td>Delhi</td>\n",
              "      <td>0.0</td>\n",
              "    </tr>\n",
              "    <tr>\n",
              "      <th>122</th>\n",
              "      <td>Infosys</td>\n",
              "      <td>44.0</td>\n",
              "      <td>3234.0</td>\n",
              "      <td>Mumbai</td>\n",
              "      <td>0.0</td>\n",
              "    </tr>\n",
              "    <tr>\n",
              "      <th>129</th>\n",
              "      <td>Infosys</td>\n",
              "      <td>50.0</td>\n",
              "      <td>3184.0</td>\n",
              "      <td>Calcutta</td>\n",
              "      <td>0.0</td>\n",
              "    </tr>\n",
              "    <tr>\n",
              "      <th>138</th>\n",
              "      <td>CTS</td>\n",
              "      <td>44.0</td>\n",
              "      <td>3033.0</td>\n",
              "      <td>Cochin</td>\n",
              "      <td>0.0</td>\n",
              "    </tr>\n",
              "    <tr>\n",
              "      <th>140</th>\n",
              "      <td>Infosys</td>\n",
              "      <td>44.0</td>\n",
              "      <td>4034.0</td>\n",
              "      <td>Hyderabad</td>\n",
              "      <td>0.0</td>\n",
              "    </tr>\n",
              "    <tr>\n",
              "      <th>145</th>\n",
              "      <td>Infosys</td>\n",
              "      <td>44.0</td>\n",
              "      <td>4034.0</td>\n",
              "      <td>Delhi</td>\n",
              "      <td>1.0</td>\n",
              "    </tr>\n",
              "  </tbody>\n",
              "</table>\n",
              "</div>"
            ],
            "text/plain": [
              "     Company   Age  Salary       city  Gender\n",
              "21   Infosys  50.0  3184.0      Delhi     0.0\n",
              "32   Infosys  45.0  4034.0   Calcutta     0.0\n",
              "39   Infosys  41.0  3000.0     Mumbai     0.0\n",
              "50   Infosys  41.0  3000.0    Chennai     0.0\n",
              "57   Infosys  51.0  3184.0  Hyderabad     0.0\n",
              "68   Infosys  43.0  4034.0     Mumbai     0.0\n",
              "75   Infosys  44.0  3000.0     Cochin     0.0\n",
              "86   Infosys  41.0  3000.0      Delhi     0.0\n",
              "93   Infosys  54.0  3184.0     Mumbai     0.0\n",
              "104  Infosys  44.0  4034.0      Delhi     0.0\n",
              "122  Infosys  44.0  3234.0     Mumbai     0.0\n",
              "129  Infosys  50.0  3184.0   Calcutta     0.0\n",
              "138      CTS  44.0  3033.0     Cochin     0.0\n",
              "140  Infosys  44.0  4034.0  Hyderabad     0.0\n",
              "145  Infosys  44.0  4034.0      Delhi     1.0"
            ]
          },
          "execution_count": 46,
          "metadata": {},
          "output_type": "execute_result"
        }
      ],
      "source": [
        "df[(df.Age>40) & (df.Salary<5000)]"
      ]
    },
    {
      "cell_type": "code",
      "execution_count": null,
      "metadata": {},
      "outputs": [],
      "source": [
        "Draw an histogram charts for Age, Salary"
      ]
    },
    {
      "cell_type": "code",
      "execution_count": 47,
      "metadata": {
        "trusted": true
      },
      "outputs": [],
      "source": [
        "import matplotlib as plt"
      ]
    },
    {
      "cell_type": "code",
      "execution_count": 48,
      "metadata": {
        "trusted": true
      },
      "outputs": [
        {
          "data": {
            "text/plain": [
              "<AxesSubplot:ylabel='Frequency'>"
            ]
          },
          "execution_count": 48,
          "metadata": {},
          "output_type": "execute_result"
        },
        {
          "data": {
            "image/png": "[encoded data removed]",
            "text/plain": [
              "<Figure size 640x480 with 1 Axes>"
            ]
          },
          "metadata": {},
          "output_type": "display_data"
        }
      ],
      "source": [
        "df.Age.plot(kind=\"hist\")"
      ]
    },
    {
      "cell_type": "code",
      "execution_count": 49,
      "metadata": {
        "trusted": true
      },
      "outputs": [
        {
          "data": {
            "text/plain": [
              "<AxesSubplot:ylabel='Frequency'>"
            ]
          },
          "execution_count": 49,
          "metadata": {},
          "output_type": "execute_result"
        },
        {
          "data": {
            "image/png": "[encoded data removed]",
            "text/plain": [
              "<Figure size 640x480 with 1 Axes>"
            ]
          },
          "metadata": {},
          "output_type": "display_data"
        }
      ],
      "source": [
        "df.Salary.plot(kind=\"hist\")"
      ]
    },
    {
      "cell_type": "code",
      "execution_count": null,
      "metadata": {},
      "outputs": [],
      "source": [
        "Draw the pie chart for place and Company"
      ]
    },
    {
      "cell_type": "code",
      "execution_count": 50,
      "metadata": {
        "trusted": true
      },
      "outputs": [
        {
          "data": {
            "text/plain": [
              "<AxesSubplot:ylabel='city'>"
            ]
          },
          "execution_count": 50,
          "metadata": {},
          "output_type": "execute_result"
        },
        {
          "data": {
            "image/png": "[encoded data removed]",
            "text/plain": [
              "<Figure size 640x480 with 1 Axes>"
            ]
          },
          "metadata": {},
          "output_type": "display_data"
        }
      ],
      "source": [
        "df.city.value_counts().plot(kind=\"pie\")"
      ]
    },
    {
      "cell_type": "code",
      "execution_count": 52,
      "metadata": {
        "trusted": true
      },
      "outputs": [
        {
          "data": {
            "text/plain": [
              "<AxesSubplot:ylabel='Company'>"
            ]
          },
          "execution_count": 52,
          "metadata": {},
          "output_type": "execute_result"
        },
        {
          "data": {
            "image/png": "[encoded data removed]",
            "text/plain": [
              "<Figure size 640x480 with 1 Axes>"
            ]
          },
          "metadata": {},
          "output_type": "display_data"
        }
      ],
      "source": [
        "df.Company.value_counts().plot(kind=\"pie\")"
      ]
    },
    {
      "cell_type": "code",
      "execution_count": 53,
      "metadata": {
        "trusted": true
      },
      "outputs": [
        {
          "data": {
            "text/plain": [
              "Index(['Company', 'Age', 'Salary', 'city', 'Gender'], dtype='object')"
            ]
          },
          "execution_count": 53,
          "metadata": {},
          "output_type": "execute_result"
        }
      ],
      "source": [
        "df.columns"
      ]
    },
    {
      "cell_type": "code",
      "execution_count": null,
      "metadata": {},
      "outputs": [],
      "source": [
        "Find the mean, count, median of salary with repective to the place"
      ]
    },
    {
      "cell_type": "code",
      "execution_count": 54,
      "metadata": {
        "trusted": true
      },
      "outputs": [
        {
          "data": {
            "text/html": [
              "<div>\n",
              "<style scoped>\n",
              "    .dataframe tbody tr th:only-of-type {\n",
              "        vertical-align: middle;\n",
              "    }\n",
              "\n",
              "    .dataframe tbody tr th {\n",
              "        vertical-align: top;\n",
              "    }\n",
              "\n",
              "    .dataframe thead th {\n",
              "        text-align: right;\n",
              "    }\n",
              "</style>\n",
              "<table border=\"1\" class=\"dataframe\">\n",
              "  <thead>\n",
              "    <tr style=\"text-align: right;\">\n",
              "      <th></th>\n",
              "      <th>mean</th>\n",
              "      <th>median</th>\n",
              "      <th>count</th>\n",
              "    </tr>\n",
              "    <tr>\n",
              "      <th>city</th>\n",
              "      <th></th>\n",
              "      <th></th>\n",
              "      <th></th>\n",
              "    </tr>\n",
              "  </thead>\n",
              "  <tbody>\n",
              "    <tr>\n",
              "      <th>Bhopal</th>\n",
              "      <td>7000.000000</td>\n",
              "      <td>7000.0</td>\n",
              "      <td>1</td>\n",
              "    </tr>\n",
              "    <tr>\n",
              "      <th>Calcutta</th>\n",
              "      <td>5115.400000</td>\n",
              "      <td>4824.0</td>\n",
              "      <td>25</td>\n",
              "    </tr>\n",
              "    <tr>\n",
              "      <th>Chennai</th>\n",
              "      <td>5824.200000</td>\n",
              "      <td>5917.5</td>\n",
              "      <td>10</td>\n",
              "    </tr>\n",
              "    <tr>\n",
              "      <th>Cochin</th>\n",
              "      <td>5053.000000</td>\n",
              "      <td>5017.0</td>\n",
              "      <td>12</td>\n",
              "    </tr>\n",
              "    <tr>\n",
              "      <th>Delhi</th>\n",
              "      <td>4925.545455</td>\n",
              "      <td>4034.0</td>\n",
              "      <td>11</td>\n",
              "    </tr>\n",
              "    <tr>\n",
              "      <th>Hyderabad</th>\n",
              "      <td>4382.833333</td>\n",
              "      <td>3609.0</td>\n",
              "      <td>6</td>\n",
              "    </tr>\n",
              "    <tr>\n",
              "      <th>Mumbai</th>\n",
              "      <td>4895.269231</td>\n",
              "      <td>4429.0</td>\n",
              "      <td>26</td>\n",
              "    </tr>\n",
              "    <tr>\n",
              "      <th>Nagpur</th>\n",
              "      <td>8000.000000</td>\n",
              "      <td>8000.0</td>\n",
              "      <td>1</td>\n",
              "    </tr>\n",
              "    <tr>\n",
              "      <th>Noida</th>\n",
              "      <td>4387.000000</td>\n",
              "      <td>4000.0</td>\n",
              "      <td>7</td>\n",
              "    </tr>\n",
              "    <tr>\n",
              "      <th>Podicherry</th>\n",
              "      <td>6157.000000</td>\n",
              "      <td>6157.0</td>\n",
              "      <td>2</td>\n",
              "    </tr>\n",
              "    <tr>\n",
              "      <th>Pune</th>\n",
              "      <td>9000.000000</td>\n",
              "      <td>9000.0</td>\n",
              "      <td>1</td>\n",
              "    </tr>\n",
              "  </tbody>\n",
              "</table>\n",
              "</div>"
            ],
            "text/plain": [
              "                   mean  median  count\n",
              "city                                  \n",
              "Bhopal      7000.000000  7000.0      1\n",
              "Calcutta    5115.400000  4824.0     25\n",
              "Chennai     5824.200000  5917.5     10\n",
              "Cochin      5053.000000  5017.0     12\n",
              "Delhi       4925.545455  4034.0     11\n",
              "Hyderabad   4382.833333  3609.0      6\n",
              "Mumbai      4895.269231  4429.0     26\n",
              "Nagpur      8000.000000  8000.0      1\n",
              "Noida       4387.000000  4000.0      7\n",
              "Podicherry  6157.000000  6157.0      2\n",
              "Pune        9000.000000  9000.0      1"
            ]
          },
          "execution_count": 54,
          "metadata": {},
          "output_type": "execute_result"
        }
      ],
      "source": [
        "df.groupby(\"city\").Salary.agg([\"mean\",\"median\",\"count\"])"
      ]
    },
    {
      "cell_type": "code",
      "execution_count": 56,
      "metadata": {
        "trusted": true
      },
      "outputs": [
        {
          "data": {
            "text/html": [
              "<div>\n",
              "<style scoped>\n",
              "    .dataframe tbody tr th:only-of-type {\n",
              "        vertical-align: middle;\n",
              "    }\n",
              "\n",
              "    .dataframe tbody tr th {\n",
              "        vertical-align: top;\n",
              "    }\n",
              "\n",
              "    .dataframe thead th {\n",
              "        text-align: right;\n",
              "    }\n",
              "</style>\n",
              "<table border=\"1\" class=\"dataframe\">\n",
              "  <thead>\n",
              "    <tr style=\"text-align: right;\">\n",
              "      <th></th>\n",
              "      <th>mean</th>\n",
              "      <th>count</th>\n",
              "      <th>median</th>\n",
              "    </tr>\n",
              "    <tr>\n",
              "      <th>city</th>\n",
              "      <th></th>\n",
              "      <th></th>\n",
              "      <th></th>\n",
              "    </tr>\n",
              "  </thead>\n",
              "  <tbody>\n",
              "    <tr>\n",
              "      <th>Bhopal</th>\n",
              "      <td>7000.000000</td>\n",
              "      <td>1</td>\n",
              "      <td>7000.0</td>\n",
              "    </tr>\n",
              "    <tr>\n",
              "      <th>Calcutta</th>\n",
              "      <td>5115.400000</td>\n",
              "      <td>25</td>\n",
              "      <td>4824.0</td>\n",
              "    </tr>\n",
              "    <tr>\n",
              "      <th>Chennai</th>\n",
              "      <td>5824.200000</td>\n",
              "      <td>10</td>\n",
              "      <td>5917.5</td>\n",
              "    </tr>\n",
              "    <tr>\n",
              "      <th>Cochin</th>\n",
              "      <td>5053.000000</td>\n",
              "      <td>12</td>\n",
              "      <td>5017.0</td>\n",
              "    </tr>\n",
              "    <tr>\n",
              "      <th>Delhi</th>\n",
              "      <td>4925.545455</td>\n",
              "      <td>11</td>\n",
              "      <td>4034.0</td>\n",
              "    </tr>\n",
              "    <tr>\n",
              "      <th>Hyderabad</th>\n",
              "      <td>4382.833333</td>\n",
              "      <td>6</td>\n",
              "      <td>3609.0</td>\n",
              "    </tr>\n",
              "    <tr>\n",
              "      <th>Mumbai</th>\n",
              "      <td>4895.269231</td>\n",
              "      <td>26</td>\n",
              "      <td>4429.0</td>\n",
              "    </tr>\n",
              "    <tr>\n",
              "      <th>Nagpur</th>\n",
              "      <td>8000.000000</td>\n",
              "      <td>1</td>\n",
              "      <td>8000.0</td>\n",
              "    </tr>\n",
              "    <tr>\n",
              "      <th>Noida</th>\n",
              "      <td>4387.000000</td>\n",
              "      <td>7</td>\n",
              "      <td>4000.0</td>\n",
              "    </tr>\n",
              "    <tr>\n",
              "      <th>Podicherry</th>\n",
              "      <td>6157.000000</td>\n",
              "      <td>2</td>\n",
              "      <td>6157.0</td>\n",
              "    </tr>\n",
              "    <tr>\n",
              "      <th>Pune</th>\n",
              "      <td>9000.000000</td>\n",
              "      <td>1</td>\n",
              "      <td>9000.0</td>\n",
              "    </tr>\n",
              "  </tbody>\n",
              "</table>\n",
              "</div>"
            ],
            "text/plain": [
              "                   mean  count  median\n",
              "city                                  \n",
              "Bhopal      7000.000000      1  7000.0\n",
              "Calcutta    5115.400000     25  4824.0\n",
              "Chennai     5824.200000     10  5917.5\n",
              "Cochin      5053.000000     12  5017.0\n",
              "Delhi       4925.545455     11  4034.0\n",
              "Hyderabad   4382.833333      6  3609.0\n",
              "Mumbai      4895.269231     26  4429.0\n",
              "Nagpur      8000.000000      1  8000.0\n",
              "Noida       4387.000000      7  4000.0\n",
              "Podicherry  6157.000000      2  6157.0\n",
              "Pune        9000.000000      1  9000.0"
            ]
          },
          "execution_count": 56,
          "metadata": {},
          "output_type": "execute_result"
        }
      ],
      "source": [
        "df.groupby(\"city\").Salary.agg([\"mean\",\"count\",\"median\"])"
      ]
    },
    {
      "cell_type": "code",
      "execution_count": null,
      "metadata": {},
      "outputs": [],
      "source": [
        "Find the mean age with repective to the Company"
      ]
    },
    {
      "cell_type": "code",
      "execution_count": 57,
      "metadata": {
        "trusted": true
      },
      "outputs": [
        {
          "data": {
            "text/plain": [
              "Company\n",
              "CTS        33.160000\n",
              "Infosys    33.950013\n",
              "TCS        31.137901\n",
              "Name: Age, dtype: float64"
            ]
          },
          "execution_count": 57,
          "metadata": {},
          "output_type": "execute_result"
        }
      ],
      "source": [
        "df.groupby(\"Company\").Age.mean()"
      ]
    },
    {
      "cell_type": "code",
      "execution_count": 58,
      "metadata": {
        "trusted": true
      },
      "outputs": [],
      "source": [
        "df.dropna(inplace=True)"
      ]
    },
    {
      "cell_type": "code",
      "execution_count": 59,
      "metadata": {
        "trusted": true
      },
      "outputs": [
        {
          "data": {
            "text/html": [
              "<div>\n",
              "<style scoped>\n",
              "    .dataframe tbody tr th:only-of-type {\n",
              "        vertical-align: middle;\n",
              "    }\n",
              "\n",
              "    .dataframe tbody tr th {\n",
              "        vertical-align: top;\n",
              "    }\n",
              "\n",
              "    .dataframe thead th {\n",
              "        text-align: right;\n",
              "    }\n",
              "</style>\n",
              "<table border=\"1\" class=\"dataframe\">\n",
              "  <thead>\n",
              "    <tr style=\"text-align: right;\">\n",
              "      <th></th>\n",
              "      <th>Company</th>\n",
              "      <th>Age</th>\n",
              "      <th>Salary</th>\n",
              "      <th>city</th>\n",
              "      <th>Gender</th>\n",
              "    </tr>\n",
              "  </thead>\n",
              "  <tbody>\n",
              "    <tr>\n",
              "      <th>2</th>\n",
              "      <td>TCS</td>\n",
              "      <td>35.000000</td>\n",
              "      <td>2300.0</td>\n",
              "      <td>Calcutta</td>\n",
              "      <td>0.0</td>\n",
              "    </tr>\n",
              "    <tr>\n",
              "      <th>3</th>\n",
              "      <td>Infosys</td>\n",
              "      <td>40.000000</td>\n",
              "      <td>3000.0</td>\n",
              "      <td>Delhi</td>\n",
              "      <td>0.0</td>\n",
              "    </tr>\n",
              "    <tr>\n",
              "      <th>4</th>\n",
              "      <td>TCS</td>\n",
              "      <td>23.000000</td>\n",
              "      <td>4000.0</td>\n",
              "      <td>Mumbai</td>\n",
              "      <td>0.0</td>\n",
              "    </tr>\n",
              "    <tr>\n",
              "      <th>5</th>\n",
              "      <td>Infosys</td>\n",
              "      <td>32.292929</td>\n",
              "      <td>5000.0</td>\n",
              "      <td>Calcutta</td>\n",
              "      <td>0.0</td>\n",
              "    </tr>\n",
              "    <tr>\n",
              "      <th>6</th>\n",
              "      <td>TCS</td>\n",
              "      <td>32.292929</td>\n",
              "      <td>6000.0</td>\n",
              "      <td>Chennai</td>\n",
              "      <td>1.0</td>\n",
              "    </tr>\n",
              "  </tbody>\n",
              "</table>\n",
              "</div>"
            ],
            "text/plain": [
              "   Company        Age  Salary      city  Gender\n",
              "2      TCS  35.000000  2300.0  Calcutta     0.0\n",
              "3  Infosys  40.000000  3000.0     Delhi     0.0\n",
              "4      TCS  23.000000  4000.0    Mumbai     0.0\n",
              "5  Infosys  32.292929  5000.0  Calcutta     0.0\n",
              "6      TCS  32.292929  6000.0   Chennai     1.0"
            ]
          },
          "execution_count": 59,
          "metadata": {},
          "output_type": "execute_result"
        }
      ],
      "source": [
        "df.head()"
      ]
    },
    {
      "cell_type": "code",
      "execution_count": 60,
      "metadata": {
        "trusted": true
      },
      "outputs": [
        {
          "data": {
            "text/plain": [
              "Company    0\n",
              "Age        0\n",
              "Salary     0\n",
              "city       0\n",
              "Gender     0\n",
              "dtype: int64"
            ]
          },
          "execution_count": 60,
          "metadata": {},
          "output_type": "execute_result"
        }
      ],
      "source": [
        "df.isna().sum()"
      ]
    },
    {
      "cell_type": "code",
      "execution_count": 61,
      "metadata": {
        "trusted": true
      },
      "outputs": [],
      "source": [
        "num_col=df.select_dtypes(include=np.number).columns"
      ]
    },
    {
      "cell_type": "code",
      "execution_count": 62,
      "metadata": {
        "trusted": true
      },
      "outputs": [],
      "source": [
        "cat_col=df.select_dtypes(exclude=np.number).columns"
      ]
    },
    {
      "cell_type": "code",
      "execution_count": 63,
      "metadata": {
        "trusted": true
      },
      "outputs": [
        {
          "data": {
            "text/plain": [
              "Index(['Company', 'city'], dtype='object')"
            ]
          },
          "execution_count": 63,
          "metadata": {},
          "output_type": "execute_result"
        }
      ],
      "source": [
        "cat_col"
      ]
    },
    {
      "cell_type": "code",
      "execution_count": 64,
      "metadata": {
        "trusted": true
      },
      "outputs": [
        {
          "data": {
            "text/html": [
              "<div>\n",
              "<style scoped>\n",
              "    .dataframe tbody tr th:only-of-type {\n",
              "        vertical-align: middle;\n",
              "    }\n",
              "\n",
              "    .dataframe tbody tr th {\n",
              "        vertical-align: top;\n",
              "    }\n",
              "\n",
              "    .dataframe thead th {\n",
              "        text-align: right;\n",
              "    }\n",
              "</style>\n",
              "<table border=\"1\" class=\"dataframe\">\n",
              "  <thead>\n",
              "    <tr style=\"text-align: right;\">\n",
              "      <th></th>\n",
              "      <th>Company</th>\n",
              "      <th>city</th>\n",
              "    </tr>\n",
              "  </thead>\n",
              "  <tbody>\n",
              "    <tr>\n",
              "      <th>2</th>\n",
              "      <td>TCS</td>\n",
              "      <td>Calcutta</td>\n",
              "    </tr>\n",
              "    <tr>\n",
              "      <th>3</th>\n",
              "      <td>Infosys</td>\n",
              "      <td>Delhi</td>\n",
              "    </tr>\n",
              "    <tr>\n",
              "      <th>4</th>\n",
              "      <td>TCS</td>\n",
              "      <td>Mumbai</td>\n",
              "    </tr>\n",
              "    <tr>\n",
              "      <th>5</th>\n",
              "      <td>Infosys</td>\n",
              "      <td>Calcutta</td>\n",
              "    </tr>\n",
              "    <tr>\n",
              "      <th>6</th>\n",
              "      <td>TCS</td>\n",
              "      <td>Chennai</td>\n",
              "    </tr>\n",
              "    <tr>\n",
              "      <th>...</th>\n",
              "      <td>...</td>\n",
              "      <td>...</td>\n",
              "    </tr>\n",
              "    <tr>\n",
              "      <th>142</th>\n",
              "      <td>Infosys</td>\n",
              "      <td>Mumbai</td>\n",
              "    </tr>\n",
              "    <tr>\n",
              "      <th>143</th>\n",
              "      <td>TCS</td>\n",
              "      <td>Calcutta</td>\n",
              "    </tr>\n",
              "    <tr>\n",
              "      <th>145</th>\n",
              "      <td>Infosys</td>\n",
              "      <td>Delhi</td>\n",
              "    </tr>\n",
              "    <tr>\n",
              "      <th>146</th>\n",
              "      <td>TCS</td>\n",
              "      <td>Mumbai</td>\n",
              "    </tr>\n",
              "    <tr>\n",
              "      <th>147</th>\n",
              "      <td>Infosys</td>\n",
              "      <td>Cochin</td>\n",
              "    </tr>\n",
              "  </tbody>\n",
              "</table>\n",
              "<p>98 rows × 2 columns</p>\n",
              "</div>"
            ],
            "text/plain": [
              "     Company      city\n",
              "2        TCS  Calcutta\n",
              "3    Infosys     Delhi\n",
              "4        TCS    Mumbai\n",
              "5    Infosys  Calcutta\n",
              "6        TCS   Chennai\n",
              "..       ...       ...\n",
              "142  Infosys    Mumbai\n",
              "143      TCS  Calcutta\n",
              "145  Infosys     Delhi\n",
              "146      TCS    Mumbai\n",
              "147  Infosys    Cochin\n",
              "\n",
              "[98 rows x 2 columns]"
            ]
          },
          "execution_count": 64,
          "metadata": {},
          "output_type": "execute_result"
        }
      ],
      "source": [
        "df[cat_col]"
      ]
    },
    {
      "cell_type": "code",
      "execution_count": 67,
      "metadata": {
        "trusted": true
      },
      "outputs": [],
      "source": [
        "encoded_cat_col=pd.get_dummies(df[cat_col])"
      ]
    },
    {
      "cell_type": "code",
      "execution_count": 68,
      "metadata": {
        "trusted": true
      },
      "outputs": [
        {
          "data": {
            "text/html": [
              "<div>\n",
              "<style scoped>\n",
              "    .dataframe tbody tr th:only-of-type {\n",
              "        vertical-align: middle;\n",
              "    }\n",
              "\n",
              "    .dataframe tbody tr th {\n",
              "        vertical-align: top;\n",
              "    }\n",
              "\n",
              "    .dataframe thead th {\n",
              "        text-align: right;\n",
              "    }\n",
              "</style>\n",
              "<table border=\"1\" class=\"dataframe\">\n",
              "  <thead>\n",
              "    <tr style=\"text-align: right;\">\n",
              "      <th></th>\n",
              "      <th>Company_CTS</th>\n",
              "      <th>Company_Infosys</th>\n",
              "      <th>Company_TCS</th>\n",
              "      <th>city_Bhopal</th>\n",
              "      <th>city_Calcutta</th>\n",
              "      <th>city_Chennai</th>\n",
              "      <th>city_Cochin</th>\n",
              "      <th>city_Delhi</th>\n",
              "      <th>city_Hyderabad</th>\n",
              "      <th>city_Mumbai</th>\n",
              "      <th>city_Nagpur</th>\n",
              "      <th>city_Noida</th>\n",
              "      <th>city_Podicherry</th>\n",
              "      <th>city_Pune</th>\n",
              "    </tr>\n",
              "  </thead>\n",
              "  <tbody>\n",
              "    <tr>\n",
              "      <th>2</th>\n",
              "      <td>0</td>\n",
              "      <td>0</td>\n",
              "      <td>1</td>\n",
              "      <td>0</td>\n",
              "      <td>1</td>\n",
              "      <td>0</td>\n",
              "      <td>0</td>\n",
              "      <td>0</td>\n",
              "      <td>0</td>\n",
              "      <td>0</td>\n",
              "      <td>0</td>\n",
              "      <td>0</td>\n",
              "      <td>0</td>\n",
              "      <td>0</td>\n",
              "    </tr>\n",
              "    <tr>\n",
              "      <th>3</th>\n",
              "      <td>0</td>\n",
              "      <td>1</td>\n",
              "      <td>0</td>\n",
              "      <td>0</td>\n",
              "      <td>0</td>\n",
              "      <td>0</td>\n",
              "      <td>0</td>\n",
              "      <td>1</td>\n",
              "      <td>0</td>\n",
              "      <td>0</td>\n",
              "      <td>0</td>\n",
              "      <td>0</td>\n",
              "      <td>0</td>\n",
              "      <td>0</td>\n",
              "    </tr>\n",
              "    <tr>\n",
              "      <th>4</th>\n",
              "      <td>0</td>\n",
              "      <td>0</td>\n",
              "      <td>1</td>\n",
              "      <td>0</td>\n",
              "      <td>0</td>\n",
              "      <td>0</td>\n",
              "      <td>0</td>\n",
              "      <td>0</td>\n",
              "      <td>0</td>\n",
              "      <td>1</td>\n",
              "      <td>0</td>\n",
              "      <td>0</td>\n",
              "      <td>0</td>\n",
              "      <td>0</td>\n",
              "    </tr>\n",
              "    <tr>\n",
              "      <th>5</th>\n",
              "      <td>0</td>\n",
              "      <td>1</td>\n",
              "      <td>0</td>\n",
              "      <td>0</td>\n",
              "      <td>1</td>\n",
              "      <td>0</td>\n",
              "      <td>0</td>\n",
              "      <td>0</td>\n",
              "      <td>0</td>\n",
              "      <td>0</td>\n",
              "      <td>0</td>\n",
              "      <td>0</td>\n",
              "      <td>0</td>\n",
              "      <td>0</td>\n",
              "    </tr>\n",
              "    <tr>\n",
              "      <th>6</th>\n",
              "      <td>0</td>\n",
              "      <td>0</td>\n",
              "      <td>1</td>\n",
              "      <td>0</td>\n",
              "      <td>0</td>\n",
              "      <td>1</td>\n",
              "      <td>0</td>\n",
              "      <td>0</td>\n",
              "      <td>0</td>\n",
              "      <td>0</td>\n",
              "      <td>0</td>\n",
              "      <td>0</td>\n",
              "      <td>0</td>\n",
              "      <td>0</td>\n",
              "    </tr>\n",
              "    <tr>\n",
              "      <th>...</th>\n",
              "      <td>...</td>\n",
              "      <td>...</td>\n",
              "      <td>...</td>\n",
              "      <td>...</td>\n",
              "      <td>...</td>\n",
              "      <td>...</td>\n",
              "      <td>...</td>\n",
              "      <td>...</td>\n",
              "      <td>...</td>\n",
              "      <td>...</td>\n",
              "      <td>...</td>\n",
              "      <td>...</td>\n",
              "      <td>...</td>\n",
              "      <td>...</td>\n",
              "    </tr>\n",
              "    <tr>\n",
              "      <th>142</th>\n",
              "      <td>0</td>\n",
              "      <td>1</td>\n",
              "      <td>0</td>\n",
              "      <td>0</td>\n",
              "      <td>0</td>\n",
              "      <td>0</td>\n",
              "      <td>0</td>\n",
              "      <td>0</td>\n",
              "      <td>0</td>\n",
              "      <td>1</td>\n",
              "      <td>0</td>\n",
              "      <td>0</td>\n",
              "      <td>0</td>\n",
              "      <td>0</td>\n",
              "    </tr>\n",
              "    <tr>\n",
              "      <th>143</th>\n",
              "      <td>0</td>\n",
              "      <td>0</td>\n",
              "      <td>1</td>\n",
              "      <td>0</td>\n",
              "      <td>1</td>\n",
              "      <td>0</td>\n",
              "      <td>0</td>\n",
              "      <td>0</td>\n",
              "      <td>0</td>\n",
              "      <td>0</td>\n",
              "      <td>0</td>\n",
              "      <td>0</td>\n",
              "      <td>0</td>\n",
              "      <td>0</td>\n",
              "    </tr>\n",
              "    <tr>\n",
              "      <th>145</th>\n",
              "      <td>0</td>\n",
              "      <td>1</td>\n",
              "      <td>0</td>\n",
              "      <td>0</td>\n",
              "      <td>0</td>\n",
              "      <td>0</td>\n",
              "      <td>0</td>\n",
              "      <td>1</td>\n",
              "      <td>0</td>\n",
              "      <td>0</td>\n",
              "      <td>0</td>\n",
              "      <td>0</td>\n",
              "      <td>0</td>\n",
              "      <td>0</td>\n",
              "    </tr>\n",
              "    <tr>\n",
              "      <th>146</th>\n",
              "      <td>0</td>\n",
              "      <td>0</td>\n",
              "      <td>1</td>\n",
              "      <td>0</td>\n",
              "      <td>0</td>\n",
              "      <td>0</td>\n",
              "      <td>0</td>\n",
              "      <td>0</td>\n",
              "      <td>0</td>\n",
              "      <td>1</td>\n",
              "      <td>0</td>\n",
              "      <td>0</td>\n",
              "      <td>0</td>\n",
              "      <td>0</td>\n",
              "    </tr>\n",
              "    <tr>\n",
              "      <th>147</th>\n",
              "      <td>0</td>\n",
              "      <td>1</td>\n",
              "      <td>0</td>\n",
              "      <td>0</td>\n",
              "      <td>0</td>\n",
              "      <td>0</td>\n",
              "      <td>1</td>\n",
              "      <td>0</td>\n",
              "      <td>0</td>\n",
              "      <td>0</td>\n",
              "      <td>0</td>\n",
              "      <td>0</td>\n",
              "      <td>0</td>\n",
              "      <td>0</td>\n",
              "    </tr>\n",
              "  </tbody>\n",
              "</table>\n",
              "<p>98 rows × 14 columns</p>\n",
              "</div>"
            ],
            "text/plain": [
              "     Company_CTS  Company_Infosys  Company_TCS  city_Bhopal  city_Calcutta  \\\n",
              "2              0                0            1            0              1   \n",
              "3              0                1            0            0              0   \n",
              "4              0                0            1            0              0   \n",
              "5              0                1            0            0              1   \n",
              "6              0                0            1            0              0   \n",
              "..           ...              ...          ...          ...            ...   \n",
              "142            0                1            0            0              0   \n",
              "143            0                0            1            0              1   \n",
              "145            0                1            0            0              0   \n",
              "146            0                0            1            0              0   \n",
              "147            0                1            0            0              0   \n",
              "\n",
              "     city_Chennai  city_Cochin  city_Delhi  city_Hyderabad  city_Mumbai  \\\n",
              "2               0            0           0               0            0   \n",
              "3               0            0           1               0            0   \n",
              "4               0            0           0               0            1   \n",
              "5               0            0           0               0            0   \n",
              "6               1            0           0               0            0   \n",
              "..            ...          ...         ...             ...          ...   \n",
              "142             0            0           0               0            1   \n",
              "143             0            0           0               0            0   \n",
              "145             0            0           1               0            0   \n",
              "146             0            0           0               0            1   \n",
              "147             0            1           0               0            0   \n",
              "\n",
              "     city_Nagpur  city_Noida  city_Podicherry  city_Pune  \n",
              "2              0           0                0          0  \n",
              "3              0           0                0          0  \n",
              "4              0           0                0          0  \n",
              "5              0           0                0          0  \n",
              "6              0           0                0          0  \n",
              "..           ...         ...              ...        ...  \n",
              "142            0           0                0          0  \n",
              "143            0           0                0          0  \n",
              "145            0           0                0          0  \n",
              "146            0           0                0          0  \n",
              "147            0           0                0          0  \n",
              "\n",
              "[98 rows x 14 columns]"
            ]
          },
          "execution_count": 68,
          "metadata": {},
          "output_type": "execute_result"
        }
      ],
      "source": [
        "encoded_cat_col"
      ]
    },
    {
      "cell_type": "code",
      "execution_count": 70,
      "metadata": {
        "trusted": true
      },
      "outputs": [],
      "source": [
        "df_ready_model=pd.concat([df[num_col],encoded_cat_col],axis=1)"
      ]
    },
    {
      "cell_type": "code",
      "execution_count": 71,
      "metadata": {
        "trusted": true
      },
      "outputs": [],
      "source": [
        "from sklearn.preprocessing import LabelEncoder\n",
        "label_encoder=LabelEncoder()\n",
        "for i in cat_col:\n",
        "    df[i]=label_encoder.fit_transform(df[i])"
      ]
    },
    {
      "cell_type": "code",
      "execution_count": 72,
      "metadata": {
        "trusted": true
      },
      "outputs": [
        {
          "data": {
            "text/plain": [
              "6     25\n",
              "1     24\n",
              "3     12\n",
              "4     11\n",
              "2      9\n",
              "8      6\n",
              "5      6\n",
              "9      2\n",
              "0      1\n",
              "7      1\n",
              "10     1\n",
              "Name: city, dtype: int64"
            ]
          },
          "execution_count": 72,
          "metadata": {},
          "output_type": "execute_result"
        }
      ],
      "source": [
        "df.city.value_counts()"
      ]
    },
    {
      "cell_type": "code",
      "execution_count": 80,
      "metadata": {
        "trusted": true
      },
      "outputs": [],
      "source": [
        "from sklearn.preprocessing import StandardScaler\n",
        "std_scale=StandardScaler().fit(df)\n",
        "df_std=std_scale.transform(df)"
      ]
    },
    {
      "cell_type": "code",
      "execution_count": 81,
      "metadata": {
        "trusted": true
      },
      "outputs": [
        {
          "data": {
            "text/plain": [
              "array([[ 1.07486114e+00,  2.80627931e-01, -1.11106463e+00,\n",
              "        -1.20745013e+00, -5.53774924e-01],\n",
              "       [-2.09729002e-01,  8.57925796e-01, -8.33096884e-01,\n",
              "         2.94500032e-02, -5.53774924e-01],\n",
              "       [ 1.07486114e+00, -1.10488694e+00, -4.36000106e-01,\n",
              "         8.54050093e-01, -5.53774924e-01],\n",
              "       [-2.09729002e-01, -3.19292965e-02, -3.89033282e-02,\n",
              "        -1.20745013e+00, -5.53774924e-01],\n",
              "       [ 1.07486114e+00, -3.19292965e-02,  3.58193450e-01,\n",
              "        -7.95150086e-01,  1.80578780e+00],\n",
              "       [-2.09729002e-01, -1.10488694e+00,  7.55290228e-01,\n",
              "         8.54050093e-01,  1.80578780e+00],\n",
              "       [ 1.07486114e+00,  1.65168358e-01,  1.15238701e+00,\n",
              "        -1.20745013e+00,  1.80578780e+00],\n",
              "       [-1.49431914e+00,  1.43522366e+00,  1.54948378e+00,\n",
              "         2.94500032e-02, -5.53774924e-01],\n",
              "       [-1.49431914e+00,  1.65168358e-01, -1.59194883e+00,\n",
              "        -1.20745013e+00, -5.53774924e-01],\n",
              "       [-1.49431914e+00, -1.68218481e+00, -1.53436979e+00,\n",
              "         8.54050093e-01, -5.53774924e-01],\n",
              "       [-2.09729002e-01,  8.57925796e-01, -8.33096884e-01,\n",
              "        -1.20745013e+00, -5.53774924e-01],\n",
              "       [ 1.07486114e+00, -1.10488694e+00, -8.33096884e-01,\n",
              "         2.94500032e-02, -5.53774924e-01],\n",
              "       [-2.09729002e-01, -1.10488694e+00, -8.21183981e-01,\n",
              "         2.09095023e+00, -5.53774924e-01],\n",
              "       [ 1.07486114e+00,  1.65168358e-01, -3.89033282e-02,\n",
              "        -3.82850042e-01, -5.53774924e-01],\n",
              "       [ 1.07486114e+00,  5.11547077e-01, -8.15227529e-01,\n",
              "        -1.20745013e+00, -5.53774924e-01],\n",
              "       [-2.09729002e-01,  2.01252153e+00, -7.60031077e-01,\n",
              "         2.94500032e-02, -5.53774924e-01],\n",
              "       [ 1.07486114e+00, -1.33580609e+00, -1.08792361e-01,\n",
              "         8.54050093e-01, -5.53774924e-01],\n",
              "       [-2.09729002e-01, -3.19292965e-02,  2.92672481e-01,\n",
              "        -3.82850042e-01, -5.53774924e-01],\n",
              "       [ 1.07486114e+00, -3.19292965e-02,  7.88646357e-01,\n",
              "        -7.95150086e-01,  1.80578780e+00],\n",
              "       [-2.09729002e-01, -1.10488694e+00,  1.52684927e+00,\n",
              "         8.54050093e-01,  1.80578780e+00],\n",
              "       [ 1.07486114e+00,  1.65168358e-01,  1.28938539e+00,\n",
              "        -1.20745013e+00,  1.80578780e+00],\n",
              "       [-1.49431914e+00,  1.43522366e+00,  1.66225927e+00,\n",
              "         2.94500032e-02,  1.80578780e+00],\n",
              "       [-1.49431914e+00, -1.10488694e+00,  1.89734056e+00,\n",
              "         8.54050093e-01,  1.80578780e+00],\n",
              "       [-1.49431914e+00,  2.80627931e-01, -1.21669237e+00,\n",
              "        -3.82850042e-01, -5.53774924e-01],\n",
              "       [-1.49431914e+00,  1.55068323e+00,  1.01499152e+00,\n",
              "        -7.95150086e-01, -5.53774924e-01],\n",
              "       [-1.49431914e+00, -1.45126566e+00, -8.59305272e-01,\n",
              "         8.54050093e-01, -5.53774924e-01],\n",
              "       [-2.09729002e-01,  1.43522366e+00, -4.22498816e-01,\n",
              "        -1.20745013e+00, -5.53774924e-01],\n",
              "       [ 1.07486114e+00,  1.65168358e-01, -1.11106463e+00,\n",
              "        -1.20745013e+00, -5.53774924e-01],\n",
              "       [-2.09729002e-01,  9.73385369e-01, -8.33096884e-01,\n",
              "         8.54050093e-01, -5.53774924e-01],\n",
              "       [ 1.07486114e+00, -9.89427371e-01, -2.99001718e-01,\n",
              "        -1.20745013e+00, -5.53774924e-01],\n",
              "       [ 1.07486114e+00,  2.80627931e-01,  1.15238701e+00,\n",
              "         1.67865018e+00,  1.80578780e+00],\n",
              "       [-1.49431914e+00,  1.55068323e+00,  1.54948378e+00,\n",
              "         4.41750048e-01,  1.80578780e+00],\n",
              "       [-1.49431914e+00, -6.57507875e-02, -1.59194883e+00,\n",
              "         8.54050093e-01, -5.53774924e-01],\n",
              "       [-1.49431914e+00, -1.56672524e+00, -1.53436979e+00,\n",
              "        -3.82850042e-01, -5.53774924e-01],\n",
              "       [-2.09729002e-01,  9.73385369e-01, -8.33096884e-01,\n",
              "        -7.95150086e-01, -5.53774924e-01],\n",
              "       [-2.09729002e-01, -1.33580609e+00, -8.21183981e-01,\n",
              "        -1.20745013e+00, -5.53774924e-01],\n",
              "       [ 1.07486114e+00,  2.80627931e-01, -3.89033282e-02,\n",
              "         2.94500032e-02, -5.53774924e-01],\n",
              "       [ 1.07486114e+00, -1.33580609e+00,  5.74214097e-01,\n",
              "         8.54050093e-01, -5.53774924e-01],\n",
              "       [-2.09729002e-01, -6.57507875e-02,  1.01499152e+00,\n",
              "        -3.82850042e-01, -5.53774924e-01],\n",
              "       [ 1.07486114e+00,  6.27006650e-01, -8.15227529e-01,\n",
              "         1.67865018e+00, -5.53774924e-01],\n",
              "       [-2.09729002e-01,  2.12798110e+00, -7.60031077e-01,\n",
              "         4.41750048e-01, -5.53774924e-01],\n",
              "       [ 1.07486114e+00, -1.10488694e+00, -1.08792361e-01,\n",
              "        -1.20745013e+00, -5.53774924e-01],\n",
              "       [-2.09729002e-01, -3.19292965e-02,  2.92672481e-01,\n",
              "         8.54050093e-01, -5.53774924e-01],\n",
              "       [ 1.07486114e+00, -3.19292965e-02,  7.88646357e-01,\n",
              "        -1.20745013e+00, -5.53774924e-01],\n",
              "       [-1.49431914e+00, -1.81210360e-01, -1.21669237e+00,\n",
              "         4.41750048e-01, -5.53774924e-01],\n",
              "       [-1.49431914e+00, -1.33580609e+00, -8.59305272e-01,\n",
              "         8.54050093e-01, -5.53774924e-01],\n",
              "       [-2.09729002e-01,  1.20430451e+00, -4.22498816e-01,\n",
              "         8.54050093e-01, -5.53774924e-01],\n",
              "       [ 1.07486114e+00, -6.57507875e-02, -2.54020378e-02,\n",
              "        -3.82850042e-01, -5.53774924e-01],\n",
              "       [-2.09729002e-01, -1.33580609e+00,  1.23260056e+00,\n",
              "        -7.95150086e-01, -5.53774924e-01],\n",
              "       [ 1.07486114e+00,  1.65168358e-01,  1.55901411e+00,\n",
              "         8.54050093e-01,  1.80578780e+00],\n",
              "       [ 1.07486114e+00,  5.11547077e-01, -1.11106463e+00,\n",
              "         8.54050093e-01, -5.53774924e-01],\n",
              "       [-2.09729002e-01,  1.31976409e+00, -8.33096884e-01,\n",
              "        -3.82850042e-01, -5.53774924e-01],\n",
              "       [ 1.07486114e+00, -6.57507875e-02, -4.36000106e-01,\n",
              "         1.67865018e+00, -5.53774924e-01],\n",
              "       [-2.09729002e-01, -3.19292965e-02, -3.89033282e-02,\n",
              "         4.41750048e-01, -5.53774924e-01],\n",
              "       [ 1.07486114e+00, -3.19292965e-02,  3.58193450e-01,\n",
              "        -1.20745013e+00, -5.53774924e-01],\n",
              "       [-2.09729002e-01, -7.58508225e-01,  7.55290228e-01,\n",
              "        -1.61975018e+00, -5.53774924e-01],\n",
              "       [ 1.07486114e+00, -6.57507875e-02,  1.15238701e+00,\n",
              "         1.26635014e+00, -5.53774924e-01],\n",
              "       [-1.49431914e+00,  1.20430451e+00,  1.54948378e+00,\n",
              "         2.50325027e+00,  1.80578780e+00],\n",
              "       [-1.49431914e+00,  4.97087854e-02, -1.59194883e+00,\n",
              "        -7.95150086e-01, -5.53774924e-01],\n",
              "       [-1.49431914e+00, -1.79764438e+00, -1.53436979e+00,\n",
              "        -1.20745013e+00, -5.53774924e-01],\n",
              "       [-2.09729002e-01,  9.73385369e-01, -8.33096884e-01,\n",
              "         2.94500032e-02, -5.53774924e-01],\n",
              "       [ 1.07486114e+00, -1.33580609e+00, -8.33096884e-01,\n",
              "         8.54050093e-01, -5.53774924e-01],\n",
              "       [ 1.07486114e+00,  3.96087504e-01, -3.89033282e-02,\n",
              "        -7.95150086e-01, -5.53774924e-01],\n",
              "       [-2.09729002e-01,  2.47435982e+00, -7.60031077e-01,\n",
              "         8.54050093e-01, -5.53774924e-01],\n",
              "       [ 1.07486114e+00, -1.22034652e+00, -1.08792361e-01,\n",
              "        -1.20745013e+00, -5.53774924e-01],\n",
              "       [-2.09729002e-01, -3.19292965e-02,  2.92672481e-01,\n",
              "        -7.95150086e-01, -5.53774924e-01],\n",
              "       [ 1.07486114e+00, -3.19292965e-02,  7.88646357e-01,\n",
              "         8.54050093e-01,  1.80578780e+00],\n",
              "       [-2.09729002e-01, -1.22034652e+00,  1.52684927e+00,\n",
              "        -1.20745013e+00,  1.80578780e+00],\n",
              "       [ 1.07486114e+00,  4.97087854e-02,  1.28938539e+00,\n",
              "         2.94500032e-02,  1.80578780e+00],\n",
              "       [-1.49431914e+00,  1.31976409e+00,  1.66225927e+00,\n",
              "         2.09095023e+00,  1.80578780e+00],\n",
              "       [-1.49431914e+00, -1.22034652e+00, -8.59305272e-01,\n",
              "        -1.20745013e+00, -5.53774924e-01],\n",
              "       [-2.09729002e-01,  1.31976409e+00, -4.22498816e-01,\n",
              "         2.94500032e-02, -5.53774924e-01],\n",
              "       [ 1.07486114e+00,  4.97087854e-02, -2.54020378e-02,\n",
              "         8.54050093e-01, -5.53774924e-01],\n",
              "       [-2.09729002e-01, -1.22034652e+00,  1.23260056e+00,\n",
              "        -3.82850042e-01,  1.80578780e+00],\n",
              "       [ 1.07486114e+00,  4.97087854e-02, -1.11106463e+00,\n",
              "         2.94500032e-02, -5.53774924e-01],\n",
              "       [ 1.07486114e+00, -1.22034652e+00, -3.07340750e-01,\n",
              "        -3.82850042e-01, -5.53774924e-01],\n",
              "       [-2.09729002e-01, -3.19292965e-02,  1.33833770e-01,\n",
              "        -7.95150086e-01, -5.53774924e-01],\n",
              "       [ 1.07486114e+00, -3.19292965e-02,  1.81485384e-01,\n",
              "         8.54050093e-01, -5.53774924e-01],\n",
              "       [-2.09729002e-01, -1.22034652e+00,  1.46490217e+00,\n",
              "        -1.20745013e+00, -5.53774924e-01],\n",
              "       [-1.49431914e+00,  4.97087854e-02, -1.59194883e+00,\n",
              "         1.67865018e+00, -5.53774924e-01],\n",
              "       [-2.09729002e-01,  1.31976409e+00, -7.40176238e-01,\n",
              "         8.54050093e-01, -5.53774924e-01],\n",
              "       [-2.09729002e-01, -1.22034652e+00,  1.46490217e+00,\n",
              "        -1.20745013e+00,  1.80578780e+00],\n",
              "       [-2.09729002e-01, -2.96669933e-01,  1.21560238e-05,\n",
              "         1.67865018e+00, -5.53774924e-01],\n",
              "       [ 1.07486114e+00,  4.97087854e-02, -8.15227529e-01,\n",
              "         4.41750048e-01, -5.53774924e-01],\n",
              "       [-2.09729002e-01,  2.01252153e+00, -7.60031077e-01,\n",
              "        -1.20745013e+00, -5.53774924e-01],\n",
              "       [ 1.07486114e+00, -3.19292965e-02,  7.88646357e-01,\n",
              "        -3.82850042e-01,  1.80578780e+00],\n",
              "       [ 1.07486114e+00, -1.81210360e-01,  1.28938539e+00,\n",
              "         8.54050093e-01, -5.53774924e-01],\n",
              "       [-1.49431914e+00,  8.57925796e-01,  1.66225927e+00,\n",
              "        -1.20745013e+00,  1.80578780e+00],\n",
              "       [-1.49431914e+00, -1.81210360e-01, -1.21669237e+00,\n",
              "         8.54050093e-01, -5.53774924e-01],\n",
              "       [-1.49431914e+00,  1.31976409e+00, -8.19992691e-01,\n",
              "        -3.82850042e-01, -5.53774924e-01],\n",
              "       [-1.49431914e+00, -1.22034652e+00, -8.59305272e-01,\n",
              "         1.67865018e+00, -5.53774924e-01],\n",
              "       [-2.09729002e-01,  1.31976409e+00, -4.22498816e-01,\n",
              "         4.41750048e-01, -5.53774924e-01],\n",
              "       [ 1.07486114e+00,  4.97087854e-02, -2.54020378e-02,\n",
              "        -1.20745013e+00, -5.53774924e-01],\n",
              "       [-2.09729002e-01, -1.22034652e+00,  1.23260056e+00,\n",
              "         8.54050093e-01, -5.53774924e-01],\n",
              "       [ 1.07486114e+00,  4.97087854e-02,  1.55901411e+00,\n",
              "        -1.20745013e+00,  1.80578780e+00],\n",
              "       [-2.09729002e-01,  1.31976409e+00, -4.22498816e-01,\n",
              "         2.94500032e-02,  1.80578780e+00],\n",
              "       [ 1.07486114e+00,  4.97087854e-02, -2.54020378e-02,\n",
              "         8.54050093e-01,  1.80578780e+00],\n",
              "       [-2.09729002e-01, -1.22034652e+00,  1.23260056e+00,\n",
              "        -3.82850042e-01, -5.53774924e-01]])"
            ]
          },
          "execution_count": 81,
          "metadata": {},
          "output_type": "execute_result"
        }
      ],
      "source": [
        "df_std"
      ]
    },
    {
      "cell_type": "code",
      "execution_count": 82,
      "metadata": {
        "trusted": true
      },
      "outputs": [],
      "source": [
        "from sklearn.preprocessing import MinMaxScaler\n",
        "minmax_scale=MinMaxScaler().fit_transform(df)"
      ]
    },
    {
      "cell_type": "code",
      "execution_count": 83,
      "metadata": {
        "trusted": true
      },
      "outputs": [
        {
          "data": {
            "text/plain": [
              "numpy.ndarray"
            ]
          },
          "execution_count": 83,
          "metadata": {},
          "output_type": "execute_result"
        }
      ],
      "source": [
        "type(minmax_scale)"
      ]
    },
    {
      "cell_type": "code",
      "execution_count": 85,
      "metadata": {
        "trusted": true
      },
      "outputs": [
        {
          "data": {
            "text/html": [
              "<div>\n",
              "<style scoped>\n",
              "    .dataframe tbody tr th:only-of-type {\n",
              "        vertical-align: middle;\n",
              "    }\n",
              "\n",
              "    .dataframe tbody tr th {\n",
              "        vertical-align: top;\n",
              "    }\n",
              "\n",
              "    .dataframe thead th {\n",
              "        text-align: right;\n",
              "    }\n",
              "</style>\n",
              "<table border=\"1\" class=\"dataframe\">\n",
              "  <thead>\n",
              "    <tr style=\"text-align: right;\">\n",
              "      <th></th>\n",
              "      <th>0</th>\n",
              "      <th>1</th>\n",
              "      <th>2</th>\n",
              "      <th>3</th>\n",
              "      <th>4</th>\n",
              "    </tr>\n",
              "  </thead>\n",
              "  <tbody>\n",
              "    <tr>\n",
              "      <th>0</th>\n",
              "      <td>1.0</td>\n",
              "      <td>0.486486</td>\n",
              "      <td>0.137817</td>\n",
              "      <td>0.1</td>\n",
              "      <td>0.0</td>\n",
              "    </tr>\n",
              "    <tr>\n",
              "      <th>1</th>\n",
              "      <td>0.5</td>\n",
              "      <td>0.621622</td>\n",
              "      <td>0.217480</td>\n",
              "      <td>0.4</td>\n",
              "      <td>0.0</td>\n",
              "    </tr>\n",
              "    <tr>\n",
              "      <th>2</th>\n",
              "      <td>1.0</td>\n",
              "      <td>0.162162</td>\n",
              "      <td>0.331285</td>\n",
              "      <td>0.6</td>\n",
              "      <td>0.0</td>\n",
              "    </tr>\n",
              "    <tr>\n",
              "      <th>3</th>\n",
              "      <td>0.5</td>\n",
              "      <td>0.413322</td>\n",
              "      <td>0.445089</td>\n",
              "      <td>0.1</td>\n",
              "      <td>0.0</td>\n",
              "    </tr>\n",
              "    <tr>\n",
              "      <th>4</th>\n",
              "      <td>1.0</td>\n",
              "      <td>0.413322</td>\n",
              "      <td>0.558894</td>\n",
              "      <td>0.2</td>\n",
              "      <td>1.0</td>\n",
              "    </tr>\n",
              "    <tr>\n",
              "      <th>...</th>\n",
              "      <td>...</td>\n",
              "      <td>...</td>\n",
              "      <td>...</td>\n",
              "      <td>...</td>\n",
              "      <td>...</td>\n",
              "    </tr>\n",
              "    <tr>\n",
              "      <th>93</th>\n",
              "      <td>0.5</td>\n",
              "      <td>0.135135</td>\n",
              "      <td>0.809491</td>\n",
              "      <td>0.6</td>\n",
              "      <td>0.0</td>\n",
              "    </tr>\n",
              "    <tr>\n",
              "      <th>94</th>\n",
              "      <td>1.0</td>\n",
              "      <td>0.432432</td>\n",
              "      <td>0.903039</td>\n",
              "      <td>0.1</td>\n",
              "      <td>1.0</td>\n",
              "    </tr>\n",
              "    <tr>\n",
              "      <th>95</th>\n",
              "      <td>0.5</td>\n",
              "      <td>0.729730</td>\n",
              "      <td>0.335154</td>\n",
              "      <td>0.4</td>\n",
              "      <td>1.0</td>\n",
              "    </tr>\n",
              "    <tr>\n",
              "      <th>96</th>\n",
              "      <td>1.0</td>\n",
              "      <td>0.432432</td>\n",
              "      <td>0.448959</td>\n",
              "      <td>0.6</td>\n",
              "      <td>1.0</td>\n",
              "    </tr>\n",
              "    <tr>\n",
              "      <th>97</th>\n",
              "      <td>0.5</td>\n",
              "      <td>0.135135</td>\n",
              "      <td>0.809491</td>\n",
              "      <td>0.3</td>\n",
              "      <td>0.0</td>\n",
              "    </tr>\n",
              "  </tbody>\n",
              "</table>\n",
              "<p>98 rows × 5 columns</p>\n",
              "</div>"
            ],
            "text/plain": [
              "      0         1         2    3    4\n",
              "0   1.0  0.486486  0.137817  0.1  0.0\n",
              "1   0.5  0.621622  0.217480  0.4  0.0\n",
              "2   1.0  0.162162  0.331285  0.6  0.0\n",
              "3   0.5  0.413322  0.445089  0.1  0.0\n",
              "4   1.0  0.413322  0.558894  0.2  1.0\n",
              "..  ...       ...       ...  ...  ...\n",
              "93  0.5  0.135135  0.809491  0.6  0.0\n",
              "94  1.0  0.432432  0.903039  0.1  1.0\n",
              "95  0.5  0.729730  0.335154  0.4  1.0\n",
              "96  1.0  0.432432  0.448959  0.6  1.0\n",
              "97  0.5  0.135135  0.809491  0.3  0.0\n",
              "\n",
              "[98 rows x 5 columns]"
            ]
          },
          "execution_count": 85,
          "metadata": {},
          "output_type": "execute_result"
        }
      ],
      "source": [
        "pd.DataFrame(minmax_scale)"
      ]
    },
    {
      "cell_type": "code",
      "execution_count": 87,
      "metadata": {
        "trusted": true
      },
      "outputs": [],
      "source": [
        "col=[\"Company\",\"city\"]\n",
        "onehot=pd.get_dummies(df[col])"
      ]
    },
    {
      "cell_type": "code",
      "execution_count": 88,
      "metadata": {
        "trusted": true
      },
      "outputs": [],
      "source": [
        "col=[\"Age\",\"Salary\",\"Gender\"]\n",
        "dataf=pd.concat([df[col],onehot],axis=1)"
      ]
    },
    {
      "cell_type": "code",
      "execution_count": 89,
      "metadata": {
        "trusted": true
      },
      "outputs": [
        {
          "data": {
            "text/html": [
              "<div>\n",
              "<style scoped>\n",
              "    .dataframe tbody tr th:only-of-type {\n",
              "        vertical-align: middle;\n",
              "    }\n",
              "\n",
              "    .dataframe tbody tr th {\n",
              "        vertical-align: top;\n",
              "    }\n",
              "\n",
              "    .dataframe thead th {\n",
              "        text-align: right;\n",
              "    }\n",
              "</style>\n",
              "<table border=\"1\" class=\"dataframe\">\n",
              "  <thead>\n",
              "    <tr style=\"text-align: right;\">\n",
              "      <th></th>\n",
              "      <th>Age</th>\n",
              "      <th>Salary</th>\n",
              "      <th>Gender</th>\n",
              "      <th>Company</th>\n",
              "      <th>city</th>\n",
              "    </tr>\n",
              "  </thead>\n",
              "  <tbody>\n",
              "    <tr>\n",
              "      <th>2</th>\n",
              "      <td>35.000000</td>\n",
              "      <td>2300.0</td>\n",
              "      <td>0.0</td>\n",
              "      <td>2</td>\n",
              "      <td>1</td>\n",
              "    </tr>\n",
              "    <tr>\n",
              "      <th>3</th>\n",
              "      <td>40.000000</td>\n",
              "      <td>3000.0</td>\n",
              "      <td>0.0</td>\n",
              "      <td>1</td>\n",
              "      <td>4</td>\n",
              "    </tr>\n",
              "    <tr>\n",
              "      <th>4</th>\n",
              "      <td>23.000000</td>\n",
              "      <td>4000.0</td>\n",
              "      <td>0.0</td>\n",
              "      <td>2</td>\n",
              "      <td>6</td>\n",
              "    </tr>\n",
              "    <tr>\n",
              "      <th>5</th>\n",
              "      <td>32.292929</td>\n",
              "      <td>5000.0</td>\n",
              "      <td>0.0</td>\n",
              "      <td>1</td>\n",
              "      <td>1</td>\n",
              "    </tr>\n",
              "    <tr>\n",
              "      <th>6</th>\n",
              "      <td>32.292929</td>\n",
              "      <td>6000.0</td>\n",
              "      <td>1.0</td>\n",
              "      <td>2</td>\n",
              "      <td>2</td>\n",
              "    </tr>\n",
              "    <tr>\n",
              "      <th>...</th>\n",
              "      <td>...</td>\n",
              "      <td>...</td>\n",
              "      <td>...</td>\n",
              "      <td>...</td>\n",
              "      <td>...</td>\n",
              "    </tr>\n",
              "    <tr>\n",
              "      <th>142</th>\n",
              "      <td>22.000000</td>\n",
              "      <td>8202.0</td>\n",
              "      <td>0.0</td>\n",
              "      <td>1</td>\n",
              "      <td>6</td>\n",
              "    </tr>\n",
              "    <tr>\n",
              "      <th>143</th>\n",
              "      <td>33.000000</td>\n",
              "      <td>9024.0</td>\n",
              "      <td>1.0</td>\n",
              "      <td>2</td>\n",
              "      <td>1</td>\n",
              "    </tr>\n",
              "    <tr>\n",
              "      <th>145</th>\n",
              "      <td>44.000000</td>\n",
              "      <td>4034.0</td>\n",
              "      <td>1.0</td>\n",
              "      <td>1</td>\n",
              "      <td>4</td>\n",
              "    </tr>\n",
              "    <tr>\n",
              "      <th>146</th>\n",
              "      <td>33.000000</td>\n",
              "      <td>5034.0</td>\n",
              "      <td>1.0</td>\n",
              "      <td>2</td>\n",
              "      <td>6</td>\n",
              "    </tr>\n",
              "    <tr>\n",
              "      <th>147</th>\n",
              "      <td>22.000000</td>\n",
              "      <td>8202.0</td>\n",
              "      <td>0.0</td>\n",
              "      <td>1</td>\n",
              "      <td>3</td>\n",
              "    </tr>\n",
              "  </tbody>\n",
              "</table>\n",
              "<p>98 rows × 5 columns</p>\n",
              "</div>"
            ],
            "text/plain": [
              "           Age  Salary  Gender  Company  city\n",
              "2    35.000000  2300.0     0.0        2     1\n",
              "3    40.000000  3000.0     0.0        1     4\n",
              "4    23.000000  4000.0     0.0        2     6\n",
              "5    32.292929  5000.0     0.0        1     1\n",
              "6    32.292929  6000.0     1.0        2     2\n",
              "..         ...     ...     ...      ...   ...\n",
              "142  22.000000  8202.0     0.0        1     6\n",
              "143  33.000000  9024.0     1.0        2     1\n",
              "145  44.000000  4034.0     1.0        1     4\n",
              "146  33.000000  5034.0     1.0        2     6\n",
              "147  22.000000  8202.0     0.0        1     3\n",
              "\n",
              "[98 rows x 5 columns]"
            ]
          },
          "execution_count": 89,
          "metadata": {},
          "output_type": "execute_result"
        }
      ],
      "source": [
        "dataf"
      ]
    }
  ],
  "metadata": {
    "kernelspec": {
      "display_name": "Python (Pyodide)",
      "language": "python",
      "name": "python"
    },
    "language_info": {
      "codemirror_mode": {
        "name": "python",
        "version": 3
      },
      "file_extension": ".py",
      "mimetype": "text/x-python",
      "name": "python",
      "nbconvert_exporter": "python",
      "pygments_lexer": "ipython3",
      "version": "3.8"
    }
  },
  "nbformat": 4,
  "nbformat_minor": 4
}
